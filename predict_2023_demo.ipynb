{
 "cells": [
  {
   "cell_type": "markdown",
   "source": [
    "# EcoDynElec - Enr Model - 2023 power prediction example\n",
    "\n",
    "This notebook shows an example of the prediction of 2023's wind and solar power production using the model previously trained in the \"example\" notebook."
   ],
   "metadata": {
    "collapsed": false
   }
  },
  {
   "cell_type": "code",
   "execution_count": null,
   "metadata": {
    "collapsed": true
   },
   "outputs": [],
   "source": [
    "from ecodynelec_enr_model.data_loading import save_power_data, root_dir\n",
    "# autorelead\n",
    "%load_ext autoreload\n",
    "%autoreload 2"
   ]
  },
  {
   "cell_type": "code",
   "execution_count": null,
   "outputs": [],
   "source": [
    "import pandas as pd\n",
    "\n",
    "from ecodynelec_enr_model import data_loading\n",
    "from ecodynelec_enr_model.data_model import generate_production_files, wind_plants_model, solar_plants_model, \\\n",
    "    load_model, predict_power_production\n",
    "from ecodynelec_enr_model.data_model import load_expected_result\n",
    "from ecodynelec_enr_model.data_utils import plot_predictions, compare_plot_predictions, get_correlation_results\n",
    "\n",
    "# If you want to use another input/output folder, edit this line\n",
    "#data_loading.root_dir = './ecd_enr_model/'"
   ],
   "metadata": {
    "collapsed": false
   }
  },
  {
   "cell_type": "code",
   "execution_count": null,
   "outputs": [],
   "source": [
    "# select the model to use here, \"solar_plants_model\" or \"wind_plants_model\"\n",
    "selected_model = solar_plants_model\n",
    "title = 'Solar'"
   ],
   "metadata": {
    "collapsed": false
   }
  },
  {
   "cell_type": "markdown",
   "source": [
    "## Load the model\n",
    "The model is created in the example notebook."
   ],
   "metadata": {
    "collapsed": false
   }
  },
  {
   "cell_type": "code",
   "execution_count": null,
   "outputs": [],
   "source": [
    "model = load_model(selected_model, save_name=\"model\")"
   ],
   "metadata": {
    "collapsed": false
   }
  },
  {
   "cell_type": "markdown",
   "source": [
    "## Predict the production"
   ],
   "metadata": {
    "collapsed": false
   }
  },
  {
   "cell_type": "code",
   "execution_count": null,
   "outputs": [],
   "source": [
    "years = [2023] # you can add more years if you want, but make sure you have the corresponding meteo files in the input folder\n",
    "prod = predict_power_production(selected_model, model, years=[2023], generate_input=True)"
   ],
   "metadata": {
    "collapsed": false
   }
  },
  {
   "cell_type": "code",
   "execution_count": null,
   "outputs": [],
   "source": [
    "prod"
   ],
   "metadata": {
    "collapsed": false
   }
  },
  {
   "cell_type": "code",
   "execution_count": null,
   "outputs": [],
   "source": [
    "save_power_data(prod, path=f'{root_dir}export/prediction_demo_{title}')"
   ],
   "metadata": {
    "collapsed": false
   }
  },
  {
   "cell_type": "markdown",
   "source": [
    "## Compare to real results\n",
    "If you have the real data, you can plot it against the predicted data."
   ],
   "metadata": {
    "collapsed": false
   }
  },
  {
   "cell_type": "code",
   "execution_count": null,
   "outputs": [],
   "source": [
    "y_true_2023 = load_expected_result(selected_model, years, generate_output=True, verbose=True)\n",
    "plot_predictions(y_true_2023 + 1000, prod.loc['2023'], date_label='2023', title=title,\n",
    "                 actual_series_label='Pronovo')"
   ],
   "metadata": {
    "collapsed": false
   }
  },
  {
   "cell_type": "code",
   "execution_count": null,
   "outputs": [],
   "source": [],
   "metadata": {
    "collapsed": false
   }
  }
 ],
 "metadata": {
  "kernelspec": {
   "display_name": "Python 3",
   "language": "python",
   "name": "python3"
  },
  "language_info": {
   "codemirror_mode": {
    "name": "ipython",
    "version": 2
   },
   "file_extension": ".py",
   "mimetype": "text/x-python",
   "name": "python",
   "nbconvert_exporter": "python",
   "pygments_lexer": "ipython2",
   "version": "2.7.6"
  }
 },
 "nbformat": 4,
 "nbformat_minor": 0
}
