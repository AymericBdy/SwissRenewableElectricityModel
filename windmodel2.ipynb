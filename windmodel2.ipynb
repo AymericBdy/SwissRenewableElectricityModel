{
 "cells": [
  {
   "cell_type": "markdown",
   "metadata": {},
   "source": [
    "# Modèle de la production éolienne Suisse\n",
    "\n",
    "Ce modèle utilise :\n",
    "- les installations éoliennes suisses (données SFOE/OFEN) avec leurs coordonnées géographiques\n",
    "- les facteurs de production éolienne par région NUTS2 (données dérivées de ERA5, voir https://cds.climate.copernicus.eu/cdsapp#!/dataset/10.24381/cds.4bd77450)\n",
    "\n",
    "Il permet de calculer la production éolienne Suisse totale et par région NUTS2."
   ]
  },
  {
   "cell_type": "code",
   "execution_count": 6,
   "metadata": {
    "ExecuteTime": {
     "end_time": "2023-05-17T14:43:52.963977600Z",
     "start_time": "2023-05-17T14:43:52.378489900Z"
    }
   },
   "outputs": [],
   "source": [
    "import pandas as pd\n",
    "\n",
    "wind_plants = pd.read_csv('./data/CH_ElectricityProductionPlant_final.csv', parse_dates=True)\n",
    "wind_plants = wind_plants[wind_plants['SubCategory'] == 'Wind_Onshore_CH']"
   ]
  },
  {
   "cell_type": "code",
   "execution_count": 7,
   "outputs": [],
   "source": [
    "from math import isnan\n",
    "import numpy as np\n",
    "from pyproj import Transformer\n",
    "from scipy.spatial.distance import cdist\n",
    "import xarray as xr\n",
    "\n",
    "transformer = Transformer.from_crs(\"EPSG:2056\", \"EPSG:4326\")  # MN95 -> WGS84\n",
    "#plants_mapped = False\n",
    "#unique_pos = []\n",
    "\n",
    "def map_plants():\n",
    "    global plants_mapped\n",
    "    global unique_pos\n",
    "    print('Map pos...')\n",
    "    wd40 = wind_factor.reset_index()\n",
    "    wd40[['longitude', 'latitude']].drop_duplicates()\n",
    "    grid = wd40[['longitude', 'latitude']].drop_duplicates()#gpt nul wind_factor.index.get_level_values(['longitude', 'latitude']).unique()\n",
    "    del wd40\n",
    "\n",
    "    def trouver_position_proche(row):\n",
    "        if isnan(row['_x']) or isnan(row['_y']):\n",
    "            return 0, 0\n",
    "        positions_grid = grid\n",
    "        # Convertir les coordonnées en degrés décimaux\n",
    "        lat, lon = transformer.transform(row['_x'], row['_y'])\n",
    "        centrale_position = np.array([lon, lat])\n",
    "        distances = cdist([centrale_position], positions_grid)\n",
    "        index_plus_proche = np.argmin(distances)\n",
    "        pos = positions_grid.iloc[index_plus_proche]\n",
    "        return pos['longitude'], pos['latitude']\n",
    "\n",
    "    # Attribution des positions les plus proches aux centrales\n",
    "    psl = wind_plants.apply(trouver_position_proche, axis=1)\n",
    "    wind_plants['long'], wind_plants['lat'] = [p[0] for p in psl], [p[1] for p in psl]\n",
    "\n",
    "    unique_pos = [(x, y) for x, y in zip(wind_plants['long'], wind_plants['lat'])]\n",
    "    print(len(unique_pos), 'vs', len(wind_plants))\n",
    "    unique_pos = list(dict.fromkeys(unique_pos))\n",
    "    plants_mapped = True\n",
    "    del grid\n",
    "\n",
    "def do_month(f):\n",
    "    print('Read:', f)\n",
    "    ds2 = xr.open_dataset(f'./data/wind_2021/{f}')\n",
    "    wind_factor = ds2.to_dataframe().dropna()\n",
    "    del ds2\n",
    "\n",
    "    if not plants_mapped:\n",
    "        map_plants()\n",
    "\n",
    "    print('create frame')\n",
    "    dates = wind_factor.index.levels[2]\n",
    "    # There is some missing data added as 1900-01-01, for example in April 2021, so we remove it\n",
    "    base_len = len(dates)\n",
    "    dates = dates.drop(dates[dates.year != 2021])\n",
    "    nw_len = len(dates)\n",
    "    if base_len != nw_len:\n",
    "        print('WARNING: Invalid dates removed. Data will be incomplete.')\n",
    "    wind_factor_reduced = pd.DataFrame(index=dates)\n",
    "    print('reducing...')\n",
    "    for pos in unique_pos:\n",
    "        data = wind_factor.loc[pos[0], pos[1]]\n",
    "        dt2 = dates.intersection(data.index)\n",
    "        wind_factor_reduced[str(pos)] = data.loc[dt2]\n",
    "    #wind_factor_reduced\n",
    "\n",
    "    start = wind_factor_reduced.index[0]\n",
    "    end = wind_factor_reduced.index[-1]\n",
    "    freq = 'D'\n",
    "    print('step 1. Do from', start, 'to', end, 'with freq', freq)\n",
    "\n",
    "    # Générer un DataFrame avec l'index des dates\n",
    "    dates = pd.date_range(start=start, end=end, freq=freq)\n",
    "    by_date = pd.DataFrame(index=dates)\n",
    "    print('step 2')\n",
    "\n",
    "    # Calculer la puissance cumulée pour chaque région\n",
    "    regions = unique_pos\n",
    "    szh = len(regions)\n",
    "    i = 0\n",
    "    for region in regions:\n",
    "        # Filtrer les installations pour la région donnée\n",
    "        #print('Region is ', region, ' ', i,'/',szh)\n",
    "        df_region = wind_plants[(wind_plants['long'] == region[0]) & (wind_plants['lat'] == region[1])]\n",
    "        if len(df_region) == 0:\n",
    "            continue\n",
    "        #print('ERROR df reg is ', df_region, ' for ', region)\n",
    "\n",
    "        # Regrouper par date de début d'opération et calculer la somme de la puissance\n",
    "        df_grouped = df_region.groupby('BeginningOfOperation')['TotalPower'].sum()\n",
    "        df_grouped.index = pd.to_datetime(df_grouped.index)\n",
    "\n",
    "        # Puissance installée au début de l'année\n",
    "        base_value = df_grouped.loc[:start].sum()\n",
    "        # Réindexer pour inclure toutes les dates entre d1 et d2\n",
    "        df_grouped = df_grouped.reindex(dates, fill_value=0)\n",
    "        df_grouped.loc[start] = base_value\n",
    "        #print('Power in ', region,' is ', df_grouped.cumsum())\n",
    "\n",
    "        # Ajouter la colonne de puissance cumulée de la région au DataFrame de sortie\n",
    "        by_date[str(region)] = df_grouped.cumsum()\n",
    "        i = i + 1\n",
    "    by_date = by_date / 1000  # Convertir en MWc\n",
    "\n",
    "    print('last capa', by_date.iloc[-1].sum())\n",
    "\n",
    "    #hour by hour\n",
    "    by_date_rs = by_date.resample('H').first().loc[start:end]\n",
    "    by_date_rs = by_date_rs.interpolate(method='pad', limit_direction='forward')\n",
    "    rd = wind_factor_reduced.loc[start:end]\n",
    "    produced_year = rd.multiply(by_date_rs).sum(axis=1)\n",
    "    produced_year = produced_year / 1000  # Convertir en GWh\n",
    "\n",
    "    print('===> Total:', produced_year.sum())\n",
    "    del by_date\n",
    "    del by_date_rs\n",
    "    del rd\n",
    "    del wind_factor_reduced\n",
    "    del wind_factor\n",
    "    return produced_year"
   ],
   "metadata": {
    "collapsed": false,
    "ExecuteTime": {
     "end_time": "2023-05-17T14:43:53.752083600Z",
     "start_time": "2023-05-17T14:43:52.676148500Z"
    }
   }
  },
  {
   "cell_type": "code",
   "execution_count": 7,
   "outputs": [],
   "source": [],
   "metadata": {
    "collapsed": false,
    "ExecuteTime": {
     "end_time": "2023-05-17T14:43:53.753084800Z",
     "start_time": "2023-05-17T14:43:53.747651600Z"
    }
   }
  },
  {
   "cell_type": "code",
   "execution_count": 8,
   "outputs": [
    {
     "data": {
      "text/plain": "                       woncfr\ntime                         \n2021-04-01 00:00:00  0.000000\n2021-04-01 01:00:00  0.000000\n2021-04-01 02:00:00  0.000000\n2021-04-01 03:00:00  0.000000\n2021-04-01 04:00:00  0.001361\n...                       ...\n1900-01-01 00:00:00  0.000000\n1900-01-01 00:00:00  0.000000\n1900-01-01 00:00:00  0.000000\n1900-01-01 00:00:00  0.000000\n1900-01-01 00:00:00  0.000000\n\n[715 rows x 1 columns]",
      "text/html": "<div>\n<style scoped>\n    .dataframe tbody tr th:only-of-type {\n        vertical-align: middle;\n    }\n\n    .dataframe tbody tr th {\n        vertical-align: top;\n    }\n\n    .dataframe thead th {\n        text-align: right;\n    }\n</style>\n<table border=\"1\" class=\"dataframe\">\n  <thead>\n    <tr style=\"text-align: right;\">\n      <th></th>\n      <th>woncfr</th>\n    </tr>\n    <tr>\n      <th>time</th>\n      <th></th>\n    </tr>\n  </thead>\n  <tbody>\n    <tr>\n      <th>2021-04-01 00:00:00</th>\n      <td>0.000000</td>\n    </tr>\n    <tr>\n      <th>2021-04-01 01:00:00</th>\n      <td>0.000000</td>\n    </tr>\n    <tr>\n      <th>2021-04-01 02:00:00</th>\n      <td>0.000000</td>\n    </tr>\n    <tr>\n      <th>2021-04-01 03:00:00</th>\n      <td>0.000000</td>\n    </tr>\n    <tr>\n      <th>2021-04-01 04:00:00</th>\n      <td>0.001361</td>\n    </tr>\n    <tr>\n      <th>...</th>\n      <td>...</td>\n    </tr>\n    <tr>\n      <th>1900-01-01 00:00:00</th>\n      <td>0.000000</td>\n    </tr>\n    <tr>\n      <th>1900-01-01 00:00:00</th>\n      <td>0.000000</td>\n    </tr>\n    <tr>\n      <th>1900-01-01 00:00:00</th>\n      <td>0.000000</td>\n    </tr>\n    <tr>\n      <th>1900-01-01 00:00:00</th>\n      <td>0.000000</td>\n    </tr>\n    <tr>\n      <th>1900-01-01 00:00:00</th>\n      <td>0.000000</td>\n    </tr>\n  </tbody>\n</table>\n<p>715 rows × 1 columns</p>\n</div>"
     },
     "execution_count": 8,
     "metadata": {},
     "output_type": "execute_result"
    }
   ],
   "source": [
    "ds2 = xr.open_dataset(f'./data/wind_2021/{\"H_ERA5_ECMW_T639_WON_0100m_Euro_025d_S202104010000_E202104302300_CFR_MAP_01h_NA-_noc_org_NA_NA---_NA---_PhM01.nc\"}')\n",
    "wind_factor = ds2.to_dataframe().dropna()\n",
    "del ds2\n",
    "wind_factor.loc[8.75, 47.5]"
   ],
   "metadata": {
    "collapsed": false,
    "ExecuteTime": {
     "end_time": "2023-05-17T14:44:01.295934600Z",
     "start_time": "2023-05-17T14:43:53.753084800Z"
    }
   }
  },
  {
   "cell_type": "code",
   "execution_count": 9,
   "outputs": [
    {
     "name": "stdout",
     "output_type": "stream",
     "text": [
      "len 715\n",
      "got to 565\n"
     ]
    }
   ],
   "source": [
    "data = wind_factor.loc[8.75, 47.5]\n",
    "print('len', len(data))\n",
    "data.drop(data[data.index.year != 2021].index, axis=0, inplace=True)\n",
    "print('got to', len(data))"
   ],
   "metadata": {
    "collapsed": false,
    "ExecuteTime": {
     "end_time": "2023-05-17T14:44:01.430330300Z",
     "start_time": "2023-05-17T14:44:01.285935700Z"
    }
   }
  },
  {
   "cell_type": "code",
   "execution_count": 10,
   "outputs": [
    {
     "name": "stdout",
     "output_type": "stream",
     "text": [
      "Read: H_ERA5_ECMW_T639_WON_0100m_Euro_025d_S202104010000_E202104302300_CFR_MAP_01h_NA-_noc_org_NA_NA---_NA---_PhM01.nc\n"
     ]
    },
    {
     "ename": "NameError",
     "evalue": "name 'plants_mapped' is not defined",
     "output_type": "error",
     "traceback": [
      "\u001B[1;31m---------------------------------------------------------------------------\u001B[0m",
      "\u001B[1;31mNameError\u001B[0m                                 Traceback (most recent call last)",
      "Cell \u001B[1;32mIn[10], line 1\u001B[0m\n\u001B[1;32m----> 1\u001B[0m df8 \u001B[38;5;241m=\u001B[39m \u001B[43mdo_month\u001B[49m\u001B[43m(\u001B[49m\u001B[38;5;124;43m\"\u001B[39;49m\u001B[38;5;124;43mH_ERA5_ECMW_T639_WON_0100m_Euro_025d_S202104010000_E202104302300_CFR_MAP_01h_NA-_noc_org_NA_NA---_NA---_PhM01.nc\u001B[39;49m\u001B[38;5;124;43m\"\u001B[39;49m\u001B[43m)\u001B[49m\n\u001B[0;32m      2\u001B[0m df8\n",
      "Cell \u001B[1;32mIn[7], line 48\u001B[0m, in \u001B[0;36mdo_month\u001B[1;34m(f)\u001B[0m\n\u001B[0;32m     45\u001B[0m wind_factor \u001B[38;5;241m=\u001B[39m ds2\u001B[38;5;241m.\u001B[39mto_dataframe()\u001B[38;5;241m.\u001B[39mdropna()\n\u001B[0;32m     46\u001B[0m \u001B[38;5;28;01mdel\u001B[39;00m ds2\n\u001B[1;32m---> 48\u001B[0m \u001B[38;5;28;01mif\u001B[39;00m \u001B[38;5;129;01mnot\u001B[39;00m \u001B[43mplants_mapped\u001B[49m:\n\u001B[0;32m     49\u001B[0m     map_plants()\n\u001B[0;32m     51\u001B[0m \u001B[38;5;28mprint\u001B[39m(\u001B[38;5;124m'\u001B[39m\u001B[38;5;124mcreate frame\u001B[39m\u001B[38;5;124m'\u001B[39m)\n",
      "\u001B[1;31mNameError\u001B[0m: name 'plants_mapped' is not defined"
     ]
    }
   ],
   "source": [
    "df8 = do_month(\"H_ERA5_ECMW_T639_WON_0100m_Euro_025d_S202104010000_E202104302300_CFR_MAP_01h_NA-_noc_org_NA_NA---_NA---_PhM01.nc\")\n",
    "df8"
   ],
   "metadata": {
    "collapsed": false,
    "ExecuteTime": {
     "end_time": "2023-05-17T14:44:06.355941400Z",
     "start_time": "2023-05-17T14:44:01.330363700Z"
    }
   }
  },
  {
   "cell_type": "code",
   "execution_count": 11,
   "outputs": [],
   "source": [
    "# reset cache\n",
    "plants_mapped = False\n",
    "unique_pos = []"
   ],
   "metadata": {
    "collapsed": false,
    "ExecuteTime": {
     "end_time": "2023-05-17T14:45:40.133925800Z",
     "start_time": "2023-05-17T14:45:40.104939200Z"
    }
   }
  },
  {
   "cell_type": "code",
   "execution_count": 12,
   "outputs": [
    {
     "name": "stdout",
     "output_type": "stream",
     "text": [
      "Read: H_ERA5_ECMW_T639_WON_0100m_Euro_025d_S202101010000_E202101312300_CFR_MAP_01h_NA-_noc_org_NA_NA---_NA---_PhM01.nc\n",
      "Map pos...\n",
      "68 vs 68\n",
      "create frame\n",
      "reducing...\n",
      "step 1. Do from 2021-01-01 00:00:00 to 2021-01-31 23:00:00 with freq D\n",
      "step 2\n",
      "last capa 88.3688\n",
      "===> Total: 10.194308785475481\n",
      "Read: H_ERA5_ECMW_T639_WON_0100m_Euro_025d_S202102010000_E202102282300_CFR_MAP_01h_NA-_noc_org_NA_NA---_NA---_PhM01.nc\n",
      "create frame\n",
      "reducing...\n",
      "step 1. Do from 2021-02-01 00:00:00 to 2021-02-28 23:00:00 with freq D\n",
      "step 2\n",
      "last capa 88.3688\n",
      "===> Total: 5.857729972926506\n",
      "Read: H_ERA5_ECMW_T639_WON_0100m_Euro_025d_S202103010000_E202103312300_CFR_MAP_01h_NA-_noc_org_NA_NA---_NA---_PhM01.nc\n",
      "create frame\n",
      "reducing...\n",
      "step 1. Do from 2021-03-01 00:00:00 to 2021-03-31 23:00:00 with freq D\n",
      "step 2\n",
      "last capa 88.3688\n",
      "===> Total: 6.707951335042633\n",
      "Read: H_ERA5_ECMW_T639_WON_0100m_Euro_025d_S202104010000_E202104302300_CFR_MAP_01h_NA-_noc_org_NA_NA---_NA---_PhM01.nc\n",
      "create frame\n",
      "WARNING: Invalid dates removed. Data will be incomplete.\n",
      "reducing...\n",
      "step 1. Do from 2021-04-01 00:00:00 to 2021-04-24 13:00:00 with freq D\n",
      "step 2\n",
      "last capa 88.3688\n",
      "===> Total: 4.669398661783837\n",
      "Read: H_ERA5_ECMW_T639_WON_0100m_Euro_025d_S202105010000_E202105312300_CFR_MAP_01h_NA-_noc_org_NA_NA---_NA---_PhM01.nc\n",
      "create frame\n",
      "reducing...\n",
      "step 1. Do from 2021-05-01 00:00:00 to 2021-05-31 23:00:00 with freq D\n",
      "step 2\n",
      "last capa 88.3688\n",
      "===> Total: 8.559113249359552\n",
      "Read: H_ERA5_ECMW_T639_WON_0100m_Euro_025d_S202106010000_E202106302300_CFR_MAP_01h_NA-_noc_org_NA_NA---_NA---_PhM01.nc\n",
      "create frame\n",
      "reducing...\n",
      "step 1. Do from 2021-06-01 00:00:00 to 2021-06-30 23:00:00 with freq D\n",
      "step 2\n",
      "last capa 88.3688\n",
      "===> Total: 1.2631451358042447\n",
      "Read: H_ERA5_ECMW_T639_WON_0100m_Euro_025d_S202107010000_E202107312300_CFR_MAP_01h_NA-_noc_org_NA_NA---_NA---_PhM01.nc\n",
      "create frame\n",
      "reducing...\n",
      "step 1. Do from 2021-07-01 00:00:00 to 2021-07-31 23:00:00 with freq D\n",
      "step 2\n",
      "last capa 88.3688\n",
      "===> Total: 3.32555901474595\n",
      "Read: H_ERA5_ECMW_T639_WON_0100m_Euro_025d_S202108010000_E202108312300_CFR_MAP_01h_NA-_noc_org_NA_NA---_NA---_PhM01.nc\n",
      "create frame\n",
      "reducing...\n",
      "step 1. Do from 2021-08-01 00:00:00 to 2021-08-31 23:00:00 with freq D\n",
      "step 2\n",
      "last capa 88.3688\n",
      "===> Total: 2.8075670457989266\n",
      "Read: H_ERA5_ECMW_T639_WON_0100m_Euro_025d_S202109010000_E202109302300_CFR_MAP_01h_NA-_noc_org_NA_NA---_NA---_PhM01.nc\n",
      "create frame\n",
      "reducing...\n",
      "step 1. Do from 2021-09-01 00:00:00 to 2021-09-30 23:00:00 with freq D\n",
      "step 2\n",
      "last capa 88.3688\n",
      "===> Total: 1.6957400323341778\n",
      "Read: H_ERA5_ECMW_T639_WON_0100m_Euro_025d_S202110010000_E202110312300_CFR_MAP_01h_NA-_noc_org_NA_NA---_NA---_PhM01.nc\n",
      "create frame\n",
      "reducing...\n",
      "step 1. Do from 2021-10-01 00:00:00 to 2021-10-31 23:00:00 with freq D\n",
      "step 2\n",
      "last capa 88.3688\n",
      "===> Total: 4.940536067843556\n",
      "Read: H_ERA5_ECMW_T639_WON_0100m_Euro_025d_S202111010000_E202111302300_CFR_MAP_01h_NA-_noc_org_NA_NA---_NA---_PhM01.nc\n",
      "create frame\n",
      "reducing...\n",
      "step 1. Do from 2021-11-01 00:00:00 to 2021-11-30 23:00:00 with freq D\n",
      "step 2\n",
      "last capa 88.3688\n",
      "===> Total: 3.936533532810568\n",
      "Read: H_ERA5_ECMW_T639_WON_0100m_Euro_025d_S202112010000_E202112312300_CFR_MAP_01h_NA-_noc_org_NA_NA---_NA---_PhM01.nc\n",
      "create frame\n",
      "reducing...\n",
      "step 1. Do from 2021-12-01 00:00:00 to 2021-12-31 23:00:00 with freq D\n",
      "step 2\n",
      "last capa 88.3688\n",
      "===> Total: 9.78239589978654\n",
      "Done\n"
     ]
    }
   ],
   "source": [
    "from os import listdir\n",
    "\n",
    "files = listdir('./data/wind_2021')\n",
    "dfs = []\n",
    "for f in files:\n",
    "    #f = 'H_ERA5_ECMW_T639_WON_0100m_Euro_025d_S202106010000_E202106302300_CFR_MAP_01h_NA-_noc_org_NA_NA---_NA---_PhM01.nc'\n",
    "    #f = 'H_ERA5_ECMW_T639_WON_0100m_Euro_025d_S202109010000_E202109302300_CFR_MAP_01h_NA-_noc_org_NA_NA---_NA---_PhM01.nc'\n",
    "    #f = 'H_ERA5_ECMW_T639_WON_0100m_Euro_025d_S202110010000_E202110312300_CFR_MAP_01h_NA-_noc_org_NA_NA---_NA---_PhM01.nc'\n",
    "    dfs.append(do_month(f))\n",
    "print('Done')\n",
    "#prods = pd.concat(dfs)"
   ],
   "metadata": {
    "collapsed": false,
    "ExecuteTime": {
     "end_time": "2023-05-17T14:46:32.286958500Z",
     "start_time": "2023-05-17T14:45:40.573605900Z"
    }
   }
  },
  {
   "cell_type": "code",
   "execution_count": 13,
   "outputs": [
    {
     "data": {
      "text/plain": "[2021-01-01 00:00:00    0.001541\n 2021-01-01 01:00:00    0.001435\n 2021-01-01 02:00:00    0.000967\n 2021-01-01 03:00:00    0.000546\n 2021-01-01 04:00:00    0.000329\n                          ...   \n 2021-01-31 19:00:00    0.000000\n 2021-01-31 20:00:00    0.000000\n 2021-01-31 21:00:00    0.000000\n 2021-01-31 22:00:00    0.000000\n 2021-01-31 23:00:00    0.000000\n Length: 744, dtype: float64,\n 2021-02-01 00:00:00    0.015207\n 2021-02-01 01:00:00    0.019695\n 2021-02-01 02:00:00    0.023663\n 2021-02-01 03:00:00    0.021580\n 2021-02-01 04:00:00    0.020818\n                          ...   \n 2021-02-28 19:00:00    0.000000\n 2021-02-28 20:00:00    0.000000\n 2021-02-28 21:00:00    0.000000\n 2021-02-28 22:00:00    0.000000\n 2021-02-28 23:00:00    0.000000\n Length: 672, dtype: float64,\n 2021-03-01 00:00:00    0.000478\n 2021-03-01 01:00:00    0.000263\n 2021-03-01 02:00:00    0.000238\n 2021-03-01 03:00:00    0.000210\n 2021-03-01 04:00:00    0.000171\n                          ...   \n 2021-03-31 19:00:00    0.000000\n 2021-03-31 20:00:00    0.000000\n 2021-03-31 21:00:00    0.000000\n 2021-03-31 22:00:00    0.000000\n 2021-03-31 23:00:00    0.000000\n Length: 744, dtype: float64,\n 2021-04-01 00:00:00    0.000799\n 2021-04-01 01:00:00    0.001938\n 2021-04-01 02:00:00    0.003606\n 2021-04-01 03:00:00    0.005125\n 2021-04-01 04:00:00    0.005449\n                          ...   \n 2021-04-24 09:00:00    0.000000\n 2021-04-24 10:00:00    0.000000\n 2021-04-24 11:00:00    0.000000\n 2021-04-24 12:00:00    0.000000\n 2021-04-24 13:00:00    0.000000\n Length: 566, dtype: float64,\n 2021-05-01 00:00:00    0.000984\n 2021-05-01 01:00:00    0.000258\n 2021-05-01 02:00:00    0.000974\n 2021-05-01 03:00:00    0.003702\n 2021-05-01 04:00:00    0.002353\n                          ...   \n 2021-05-31 19:00:00    0.000000\n 2021-05-31 20:00:00    0.000000\n 2021-05-31 21:00:00    0.000000\n 2021-05-31 22:00:00    0.000000\n 2021-05-31 23:00:00    0.000000\n Length: 744, dtype: float64,\n 2021-06-01 00:00:00    0.005390\n 2021-06-01 01:00:00    0.001892\n 2021-06-01 02:00:00    0.002019\n 2021-06-01 03:00:00    0.002787\n 2021-06-01 04:00:00    0.002196\n                          ...   \n 2021-06-30 19:00:00    0.000000\n 2021-06-30 20:00:00    0.000000\n 2021-06-30 21:00:00    0.000000\n 2021-06-30 22:00:00    0.000000\n 2021-06-30 23:00:00    0.000000\n Length: 720, dtype: float64,\n 2021-07-01 00:00:00    0.005421\n 2021-07-01 01:00:00    0.005996\n 2021-07-01 02:00:00    0.006285\n 2021-07-01 03:00:00    0.006092\n 2021-07-01 04:00:00    0.003841\n                          ...   \n 2021-07-31 19:00:00    0.000000\n 2021-07-31 20:00:00    0.000000\n 2021-07-31 21:00:00    0.000000\n 2021-07-31 22:00:00    0.000000\n 2021-07-31 23:00:00    0.000000\n Length: 744, dtype: float64,\n 2021-08-01 00:00:00    0.000515\n 2021-08-01 01:00:00    0.000933\n 2021-08-01 02:00:00    0.001595\n 2021-08-01 03:00:00    0.001595\n 2021-08-01 04:00:00    0.000910\n                          ...   \n 2021-08-31 19:00:00    0.000000\n 2021-08-31 20:00:00    0.000000\n 2021-08-31 21:00:00    0.000000\n 2021-08-31 22:00:00    0.000000\n 2021-08-31 23:00:00    0.000000\n Length: 744, dtype: float64,\n 2021-09-01 00:00:00    0.018934\n 2021-09-01 01:00:00    0.015348\n 2021-09-01 02:00:00    0.013412\n 2021-09-01 03:00:00    0.012291\n 2021-09-01 04:00:00    0.011594\n                          ...   \n 2021-09-30 19:00:00    0.000000\n 2021-09-30 20:00:00    0.000000\n 2021-09-30 21:00:00    0.000000\n 2021-09-30 22:00:00    0.000000\n 2021-09-30 23:00:00    0.000000\n Length: 720, dtype: float64,\n 2021-10-01 00:00:00    0.000180\n 2021-10-01 01:00:00    0.000152\n 2021-10-01 02:00:00    0.000199\n 2021-10-01 03:00:00    0.000385\n 2021-10-01 04:00:00    0.000717\n                          ...   \n 2021-10-31 19:00:00    0.000000\n 2021-10-31 20:00:00    0.000000\n 2021-10-31 21:00:00    0.000000\n 2021-10-31 22:00:00    0.000000\n 2021-10-31 23:00:00    0.000000\n Length: 744, dtype: float64,\n 2021-11-01 00:00:00    0.010501\n 2021-11-01 01:00:00    0.015903\n 2021-11-01 02:00:00    0.012657\n 2021-11-01 03:00:00    0.015992\n 2021-11-01 04:00:00    0.023122\n                          ...   \n 2021-11-30 19:00:00    0.000000\n 2021-11-30 20:00:00    0.000000\n 2021-11-30 21:00:00    0.000000\n 2021-11-30 22:00:00    0.000000\n 2021-11-30 23:00:00    0.000000\n Length: 720, dtype: float64,\n 2021-12-01 00:00:00    0.034564\n 2021-12-01 01:00:00    0.034254\n 2021-12-01 02:00:00    0.033080\n 2021-12-01 03:00:00    0.034332\n 2021-12-01 04:00:00    0.041427\n                          ...   \n 2021-12-31 19:00:00    0.000000\n 2021-12-31 20:00:00    0.000000\n 2021-12-31 21:00:00    0.000000\n 2021-12-31 22:00:00    0.000000\n 2021-12-31 23:00:00    0.000000\n Length: 744, dtype: float64]"
     },
     "execution_count": 13,
     "metadata": {},
     "output_type": "execute_result"
    }
   ],
   "source": [
    "dfs"
   ],
   "metadata": {
    "collapsed": false,
    "ExecuteTime": {
     "end_time": "2023-05-17T14:46:32.372351400Z",
     "start_time": "2023-05-17T14:46:32.339587300Z"
    }
   }
  },
  {
   "cell_type": "code",
   "execution_count": 14,
   "outputs": [],
   "source": [
    "df = pd.concat(dfs)"
   ],
   "metadata": {
    "collapsed": false,
    "ExecuteTime": {
     "end_time": "2023-05-17T14:46:32.384904800Z",
     "start_time": "2023-05-17T14:46:32.376350600Z"
    }
   }
  },
  {
   "cell_type": "code",
   "execution_count": 15,
   "outputs": [
    {
     "data": {
      "text/plain": "2021-01-31    10.194309\n2021-02-28     5.857730\n2021-03-31     6.707951\n2021-04-30     4.669399\n2021-05-31     8.559113\n2021-06-30     1.263145\n2021-07-31     3.325559\n2021-08-31     2.807567\n2021-09-30     1.695740\n2021-10-31     4.940536\n2021-11-30     3.936534\n2021-12-31     9.782396\nFreq: M, dtype: float64"
     },
     "execution_count": 15,
     "metadata": {},
     "output_type": "execute_result"
    }
   ],
   "source": [
    "df.resample('M').sum()"
   ],
   "metadata": {
    "collapsed": false,
    "ExecuteTime": {
     "end_time": "2023-05-17T14:46:32.504893100Z",
     "start_time": "2023-05-17T14:46:32.398838500Z"
    }
   }
  },
  {
   "cell_type": "code",
   "execution_count": 17,
   "outputs": [],
   "source": [
    "iea_data = {\n",
    "    '2021-01-31': 16.2,\n",
    "    '2021-02-28': 16.2,\n",
    "    '2021-03-31': 12.1,\n",
    "    '2021-04-30': 11.1,\n",
    "    '2021-05-31': 16.2,\n",
    "    '2021-06-30': 7.1,\n",
    "    '2021-07-31': 9.1,\n",
    "    '2021-08-31': 9.1,\n",
    "    '2021-09-30': 7.1,\n",
    "    '2021-10-31': 14.2,\n",
    "    '2021-11-30': 9.1,\n",
    "    '2021-12-31': 18.2\n",
    "}\n",
    "iea_data = pd.DataFrame.from_dict(iea_data, orient='index', columns=['prod_iea'])"
   ],
   "metadata": {
    "collapsed": false,
    "ExecuteTime": {
     "end_time": "2023-05-17T14:46:52.950687900Z",
     "start_time": "2023-05-17T14:46:52.935492800Z"
    }
   }
  },
  {
   "cell_type": "code",
   "execution_count": 18,
   "outputs": [],
   "source": [
    "#######\n",
    "# Data Pronovo.ch (https://www.energy-charts.info/)\n",
    "#######\n",
    "import pandas as pd\n",
    "data = pd.read_csv(\"./data/energy-charts_Production_d'électricité_journalière__en_Suisse2021.csv\", index_col='Jour')\n",
    "data.index = pd.to_datetime(data.index, format='%d.%m.%Y')\n",
    "data.drop(labels=['NaT'], inplace=True)\n",
    "data = data.applymap(lambda x: float(x.replace(',', '.')))\n",
    "pv = data['Éolienne'].resample('M').sum()\n",
    "\n",
    "iea_data.index = pv.index"
   ],
   "metadata": {
    "collapsed": false,
    "ExecuteTime": {
     "end_time": "2023-05-17T14:46:54.046361500Z",
     "start_time": "2023-05-17T14:46:53.963884200Z"
    }
   }
  },
  {
   "cell_type": "code",
   "execution_count": 19,
   "outputs": [],
   "source": [
    "own_monthly = df.resample('M').sum()\n",
    "own_monthly.index = pv.index"
   ],
   "metadata": {
    "collapsed": false,
    "ExecuteTime": {
     "end_time": "2023-05-17T14:46:54.500148200Z",
     "start_time": "2023-05-17T14:46:54.466382900Z"
    }
   }
  },
  {
   "cell_type": "code",
   "execution_count": 20,
   "outputs": [
    {
     "data": {
      "text/plain": "<Figure size 640x480 with 1 Axes>",
      "image/png": "[encoded data removed]"
     },
     "metadata": {},
     "output_type": "display_data"
    }
   ],
   "source": [
    "import matplotlib.pyplot as plt\n",
    "\n",
    "ax = plt.gca()\n",
    "own_monthly.plot(ax=ax)\n",
    "iea_data.plot(ax=ax)\n",
    "pv.plot(ax=ax)\n",
    "plt.legend(['our model', 'IEA', 'Pronovo']);"
   ],
   "metadata": {
    "collapsed": false,
    "ExecuteTime": {
     "end_time": "2023-05-17T14:46:56.178320400Z",
     "start_time": "2023-05-17T14:46:54.706950500Z"
    }
   }
  },
  {
   "cell_type": "markdown",
   "source": [
    "Résultats :\n",
    "- du modèle\n",
    "- de l'IEA\n",
    "- de Pronovo.ch"
   ],
   "metadata": {
    "collapsed": false
   }
  },
  {
   "cell_type": "code",
   "execution_count": 21,
   "outputs": [
    {
     "data": {
      "text/plain": "63.73997873371197"
     },
     "execution_count": 21,
     "metadata": {},
     "output_type": "execute_result"
    }
   ],
   "source": [
    "df.sum()"
   ],
   "metadata": {
    "collapsed": false,
    "ExecuteTime": {
     "end_time": "2023-05-17T14:46:56.190957800Z",
     "start_time": "2023-05-17T14:46:56.181318100Z"
    }
   }
  },
  {
   "cell_type": "code",
   "execution_count": 22,
   "outputs": [
    {
     "data": {
      "text/plain": "prod_iea    145.7\ndtype: float64"
     },
     "execution_count": 22,
     "metadata": {},
     "output_type": "execute_result"
    }
   ],
   "source": [
    "iea_data.sum()"
   ],
   "metadata": {
    "collapsed": false,
    "ExecuteTime": {
     "end_time": "2023-05-17T14:46:56.296345700Z",
     "start_time": "2023-05-17T14:46:56.188959700Z"
    }
   }
  },
  {
   "cell_type": "code",
   "execution_count": 23,
   "outputs": [
    {
     "data": {
      "text/plain": "143.49174000000002"
     },
     "execution_count": 23,
     "metadata": {},
     "output_type": "execute_result"
    }
   ],
   "source": [
    "pv.sum()"
   ],
   "metadata": {
    "collapsed": false,
    "ExecuteTime": {
     "end_time": "2023-05-17T14:46:56.297345300Z",
     "start_time": "2023-05-17T14:46:56.223709400Z"
    }
   }
  },
  {
   "cell_type": "code",
   "execution_count": null,
   "outputs": [],
   "source": [],
   "metadata": {
    "collapsed": false
   }
  }
 ],
 "metadata": {
  "kernelspec": {
   "display_name": "Python 3 (ipykernel)",
   "language": "python",
   "name": "python3"
  },
  "language_info": {
   "codemirror_mode": {
    "name": "ipython",
    "version": 3
   },
   "file_extension": ".py",
   "mimetype": "text/x-python",
   "name": "python",
   "nbconvert_exporter": "python",
   "pygments_lexer": "ipython3",
   "version": "3.11.3"
  }
 },
 "nbformat": 4,
 "nbformat_minor": 1
}
