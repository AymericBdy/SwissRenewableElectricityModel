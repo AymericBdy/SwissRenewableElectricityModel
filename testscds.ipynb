{
 "cells": [
  {
   "cell_type": "code",
   "execution_count": 8,
   "outputs": [],
   "source": [
    "import pandas as pd\n",
    "\n",
    "# 2m air temperature\n",
    "tmp = pd.read_csv('./data/H_ERA5_ECMW_T639_TA-_0002m_Euro_NUT2_S197901010000_E202304302300_INS_TIM_01h_NA-_noc_org_NA_NA---_NA---_NA---.csv',\n",
    "skiprows=52,\n",
    "parse_dates=True,\n",
    "index_col='Date')\n"
   ],
   "metadata": {
    "collapsed": false,
    "ExecuteTime": {
     "start_time": "2023-05-11T14:56:49.646133Z",
     "end_time": "2023-05-11T14:57:24.660642Z"
    }
   }
  },
  {
   "cell_type": "code",
   "execution_count": 9,
   "outputs": [
    {
     "data": {
      "text/plain": "388582"
     },
     "execution_count": 9,
     "metadata": {},
     "output_type": "execute_result"
    }
   ],
   "source": [
    "len(tmp)"
   ],
   "metadata": {
    "collapsed": false,
    "ExecuteTime": {
     "start_time": "2023-05-11T14:57:24.669637Z",
     "end_time": "2023-05-11T14:57:24.723738Z"
    }
   }
  },
  {
   "cell_type": "code",
   "execution_count": 10,
   "outputs": [
    {
     "data": {
      "text/plain": "                          AL01       AL02       AL03       AT11       AT12   \nDate                                                                         \n1979-01-01 00:00:00  282.85086  284.81796  284.64844  275.12780  276.23930  \\\n1979-01-01 01:00:00  283.01680  285.14343  284.93200  275.06152  276.38144   \n1979-01-01 02:00:00  283.65448  285.92432  285.78854  274.86578  276.39807   \n1979-01-01 03:00:00  281.73743  284.01263  284.29684  275.07254  276.70438   \n1979-01-01 04:00:00  281.71677  283.86536  284.11295  275.09048  275.94406   \n\n                          AT13       AT21       AT22       AT31       AT32   \nDate                                                                         \n1979-01-01 00:00:00  276.26315  272.48727  271.12805  275.12690  270.68332  \\\n1979-01-01 01:00:00  276.93350  272.96793  271.26150  275.72064  271.17865   \n1979-01-01 02:00:00  276.18216  273.21110  271.52496  276.16754  271.03027   \n1979-01-01 03:00:00  277.09100  273.15738  272.01862  275.75992  270.02344   \n1979-01-01 04:00:00  276.46808  272.32877  271.39880  275.38452  269.10397   \n\n                     ...       UKK3       UKK4       UKL1       UKL2   \nDate                 ...                                               \n1979-01-01 00:00:00  ...  268.54993  267.68660  266.98526  264.67760  \\\n1979-01-01 01:00:00  ...  268.20550  267.35360  266.94030  264.34073   \n1979-01-01 02:00:00  ...  268.07263  267.21180  266.88170  263.97766   \n1979-01-01 03:00:00  ...  266.45673  265.50638  265.20090  262.12668   \n1979-01-01 04:00:00  ...  266.07828  265.36835  265.25220  262.19992   \n\n                          UKM5       UKM6       UKM7       UKM8       UKM9   \nDate                                                                         \n1979-01-01 00:00:00  263.44147  266.02383  261.31940  262.43500  263.95780  \\\n1979-01-01 01:00:00  263.21550  266.80023  261.66098  262.90845  263.95782   \n1979-01-01 02:00:00  263.01670  266.70170  261.20993  262.29358  263.42657   \n1979-01-01 03:00:00  264.59372  267.59412  262.12537  262.16956  263.27084   \n1979-01-01 04:00:00  264.79270  267.64694  262.51495  262.76340  263.50894   \n\n                          UKN0  \nDate                            \n1979-01-01 00:00:00  267.18848  \n1979-01-01 01:00:00  267.82956  \n1979-01-01 02:00:00  268.05685  \n1979-01-01 03:00:00  266.01290  \n1979-01-01 04:00:00  265.44574  \n\n[5 rows x 350 columns]",
      "text/html": "<div>\n<style scoped>\n    .dataframe tbody tr th:only-of-type {\n        vertical-align: middle;\n    }\n\n    .dataframe tbody tr th {\n        vertical-align: top;\n    }\n\n    .dataframe thead th {\n        text-align: right;\n    }\n</style>\n<table border=\"1\" class=\"dataframe\">\n  <thead>\n    <tr style=\"text-align: right;\">\n      <th></th>\n      <th>AL01</th>\n      <th>AL02</th>\n      <th>AL03</th>\n      <th>AT11</th>\n      <th>AT12</th>\n      <th>AT13</th>\n      <th>AT21</th>\n      <th>AT22</th>\n      <th>AT31</th>\n      <th>AT32</th>\n      <th>...</th>\n      <th>UKK3</th>\n      <th>UKK4</th>\n      <th>UKL1</th>\n      <th>UKL2</th>\n      <th>UKM5</th>\n      <th>UKM6</th>\n      <th>UKM7</th>\n      <th>UKM8</th>\n      <th>UKM9</th>\n      <th>UKN0</th>\n    </tr>\n    <tr>\n      <th>Date</th>\n      <th></th>\n      <th></th>\n      <th></th>\n      <th></th>\n      <th></th>\n      <th></th>\n      <th></th>\n      <th></th>\n      <th></th>\n      <th></th>\n      <th></th>\n      <th></th>\n      <th></th>\n      <th></th>\n      <th></th>\n      <th></th>\n      <th></th>\n      <th></th>\n      <th></th>\n      <th></th>\n      <th></th>\n    </tr>\n  </thead>\n  <tbody>\n    <tr>\n      <th>1979-01-01 00:00:00</th>\n      <td>282.85086</td>\n      <td>284.81796</td>\n      <td>284.64844</td>\n      <td>275.12780</td>\n      <td>276.23930</td>\n      <td>276.26315</td>\n      <td>272.48727</td>\n      <td>271.12805</td>\n      <td>275.12690</td>\n      <td>270.68332</td>\n      <td>...</td>\n      <td>268.54993</td>\n      <td>267.68660</td>\n      <td>266.98526</td>\n      <td>264.67760</td>\n      <td>263.44147</td>\n      <td>266.02383</td>\n      <td>261.31940</td>\n      <td>262.43500</td>\n      <td>263.95780</td>\n      <td>267.18848</td>\n    </tr>\n    <tr>\n      <th>1979-01-01 01:00:00</th>\n      <td>283.01680</td>\n      <td>285.14343</td>\n      <td>284.93200</td>\n      <td>275.06152</td>\n      <td>276.38144</td>\n      <td>276.93350</td>\n      <td>272.96793</td>\n      <td>271.26150</td>\n      <td>275.72064</td>\n      <td>271.17865</td>\n      <td>...</td>\n      <td>268.20550</td>\n      <td>267.35360</td>\n      <td>266.94030</td>\n      <td>264.34073</td>\n      <td>263.21550</td>\n      <td>266.80023</td>\n      <td>261.66098</td>\n      <td>262.90845</td>\n      <td>263.95782</td>\n      <td>267.82956</td>\n    </tr>\n    <tr>\n      <th>1979-01-01 02:00:00</th>\n      <td>283.65448</td>\n      <td>285.92432</td>\n      <td>285.78854</td>\n      <td>274.86578</td>\n      <td>276.39807</td>\n      <td>276.18216</td>\n      <td>273.21110</td>\n      <td>271.52496</td>\n      <td>276.16754</td>\n      <td>271.03027</td>\n      <td>...</td>\n      <td>268.07263</td>\n      <td>267.21180</td>\n      <td>266.88170</td>\n      <td>263.97766</td>\n      <td>263.01670</td>\n      <td>266.70170</td>\n      <td>261.20993</td>\n      <td>262.29358</td>\n      <td>263.42657</td>\n      <td>268.05685</td>\n    </tr>\n    <tr>\n      <th>1979-01-01 03:00:00</th>\n      <td>281.73743</td>\n      <td>284.01263</td>\n      <td>284.29684</td>\n      <td>275.07254</td>\n      <td>276.70438</td>\n      <td>277.09100</td>\n      <td>273.15738</td>\n      <td>272.01862</td>\n      <td>275.75992</td>\n      <td>270.02344</td>\n      <td>...</td>\n      <td>266.45673</td>\n      <td>265.50638</td>\n      <td>265.20090</td>\n      <td>262.12668</td>\n      <td>264.59372</td>\n      <td>267.59412</td>\n      <td>262.12537</td>\n      <td>262.16956</td>\n      <td>263.27084</td>\n      <td>266.01290</td>\n    </tr>\n    <tr>\n      <th>1979-01-01 04:00:00</th>\n      <td>281.71677</td>\n      <td>283.86536</td>\n      <td>284.11295</td>\n      <td>275.09048</td>\n      <td>275.94406</td>\n      <td>276.46808</td>\n      <td>272.32877</td>\n      <td>271.39880</td>\n      <td>275.38452</td>\n      <td>269.10397</td>\n      <td>...</td>\n      <td>266.07828</td>\n      <td>265.36835</td>\n      <td>265.25220</td>\n      <td>262.19992</td>\n      <td>264.79270</td>\n      <td>267.64694</td>\n      <td>262.51495</td>\n      <td>262.76340</td>\n      <td>263.50894</td>\n      <td>265.44574</td>\n    </tr>\n  </tbody>\n</table>\n<p>5 rows × 350 columns</p>\n</div>"
     },
     "execution_count": 10,
     "metadata": {},
     "output_type": "execute_result"
    }
   ],
   "source": [
    "tmp.head()"
   ],
   "metadata": {
    "collapsed": false,
    "ExecuteTime": {
     "start_time": "2023-05-11T14:57:24.722739Z",
     "end_time": "2023-05-11T14:57:24.909179Z"
    }
   }
  },
  {
   "cell_type": "code",
   "execution_count": 11,
   "outputs": [
    {
     "data": {
      "text/plain": "                          AL01       AL02       AL03       AT11       AT12   \nDate                                                                         \n2023-04-30 19:00:00  285.69608  288.35776  288.20145  284.56573  283.57993  \\\n2023-04-30 20:00:00  284.10860  286.55830  286.91003  283.10876  282.30908   \n2023-04-30 21:00:00  283.82320  285.71090  286.47570  282.13574  281.41962   \n2023-04-30 22:00:00  282.58490  284.91806  285.48972  282.00750  280.65344   \n2023-04-30 23:00:00  282.01843  284.06670  284.58722  281.51746  279.96115   \n\n                          AT13       AT21       AT22       AT31       AT32   \nDate                                                                         \n2023-04-30 19:00:00  284.14110  283.50952  282.05800  283.65894  281.16280  \\\n2023-04-30 20:00:00  283.07962  282.18362  280.70096  282.44147  279.99936   \n2023-04-30 21:00:00  282.06924  280.98245  279.61307  281.70062  278.98602   \n2023-04-30 22:00:00  281.78510  280.33530  279.03757  280.94460  278.20285   \n2023-04-30 23:00:00  280.92172  279.81880  278.43683  280.38416  277.53107   \n\n                     ...       UKK3       UKK4       UKL1       UKL2   \nDate                 ...                                               \n2023-04-30 19:00:00  ...  285.32086  284.99667  284.57092  284.73346  \\\n2023-04-30 20:00:00  ...  284.54977  284.16147  283.68190  283.85168   \n2023-04-30 21:00:00  ...  284.13165  284.02588  283.33100  283.18097   \n2023-04-30 22:00:00  ...  283.43890  283.68546  283.12845  282.89084   \n2023-04-30 23:00:00  ...  283.27173  283.21545  283.13504  282.79962   \n\n                          UKM5       UKM6       UKM7       UKM8       UKM9   \nDate                                                                         \n2023-04-30 19:00:00  284.53998  283.88010  284.75810  285.06964  284.48780  \\\n2023-04-30 20:00:00  283.44318  283.31850  283.73502  284.18024  283.73447   \n2023-04-30 21:00:00  283.17105  282.96780  282.89304  283.56882  283.18340   \n2023-04-30 22:00:00  282.32034  282.61334  282.51720  283.19464  282.66028   \n2023-04-30 23:00:00  282.07608  282.56903  282.12310  282.92368  282.31406   \n\n                          UKN0  \nDate                            \n2023-04-30 19:00:00  285.04694  \n2023-04-30 20:00:00  284.09598  \n2023-04-30 21:00:00  283.72812  \n2023-04-30 22:00:00  283.66272  \n2023-04-30 23:00:00  283.55370  \n\n[5 rows x 350 columns]",
      "text/html": "<div>\n<style scoped>\n    .dataframe tbody tr th:only-of-type {\n        vertical-align: middle;\n    }\n\n    .dataframe tbody tr th {\n        vertical-align: top;\n    }\n\n    .dataframe thead th {\n        text-align: right;\n    }\n</style>\n<table border=\"1\" class=\"dataframe\">\n  <thead>\n    <tr style=\"text-align: right;\">\n      <th></th>\n      <th>AL01</th>\n      <th>AL02</th>\n      <th>AL03</th>\n      <th>AT11</th>\n      <th>AT12</th>\n      <th>AT13</th>\n      <th>AT21</th>\n      <th>AT22</th>\n      <th>AT31</th>\n      <th>AT32</th>\n      <th>...</th>\n      <th>UKK3</th>\n      <th>UKK4</th>\n      <th>UKL1</th>\n      <th>UKL2</th>\n      <th>UKM5</th>\n      <th>UKM6</th>\n      <th>UKM7</th>\n      <th>UKM8</th>\n      <th>UKM9</th>\n      <th>UKN0</th>\n    </tr>\n    <tr>\n      <th>Date</th>\n      <th></th>\n      <th></th>\n      <th></th>\n      <th></th>\n      <th></th>\n      <th></th>\n      <th></th>\n      <th></th>\n      <th></th>\n      <th></th>\n      <th></th>\n      <th></th>\n      <th></th>\n      <th></th>\n      <th></th>\n      <th></th>\n      <th></th>\n      <th></th>\n      <th></th>\n      <th></th>\n      <th></th>\n    </tr>\n  </thead>\n  <tbody>\n    <tr>\n      <th>2023-04-30 19:00:00</th>\n      <td>285.69608</td>\n      <td>288.35776</td>\n      <td>288.20145</td>\n      <td>284.56573</td>\n      <td>283.57993</td>\n      <td>284.14110</td>\n      <td>283.50952</td>\n      <td>282.05800</td>\n      <td>283.65894</td>\n      <td>281.16280</td>\n      <td>...</td>\n      <td>285.32086</td>\n      <td>284.99667</td>\n      <td>284.57092</td>\n      <td>284.73346</td>\n      <td>284.53998</td>\n      <td>283.88010</td>\n      <td>284.75810</td>\n      <td>285.06964</td>\n      <td>284.48780</td>\n      <td>285.04694</td>\n    </tr>\n    <tr>\n      <th>2023-04-30 20:00:00</th>\n      <td>284.10860</td>\n      <td>286.55830</td>\n      <td>286.91003</td>\n      <td>283.10876</td>\n      <td>282.30908</td>\n      <td>283.07962</td>\n      <td>282.18362</td>\n      <td>280.70096</td>\n      <td>282.44147</td>\n      <td>279.99936</td>\n      <td>...</td>\n      <td>284.54977</td>\n      <td>284.16147</td>\n      <td>283.68190</td>\n      <td>283.85168</td>\n      <td>283.44318</td>\n      <td>283.31850</td>\n      <td>283.73502</td>\n      <td>284.18024</td>\n      <td>283.73447</td>\n      <td>284.09598</td>\n    </tr>\n    <tr>\n      <th>2023-04-30 21:00:00</th>\n      <td>283.82320</td>\n      <td>285.71090</td>\n      <td>286.47570</td>\n      <td>282.13574</td>\n      <td>281.41962</td>\n      <td>282.06924</td>\n      <td>280.98245</td>\n      <td>279.61307</td>\n      <td>281.70062</td>\n      <td>278.98602</td>\n      <td>...</td>\n      <td>284.13165</td>\n      <td>284.02588</td>\n      <td>283.33100</td>\n      <td>283.18097</td>\n      <td>283.17105</td>\n      <td>282.96780</td>\n      <td>282.89304</td>\n      <td>283.56882</td>\n      <td>283.18340</td>\n      <td>283.72812</td>\n    </tr>\n    <tr>\n      <th>2023-04-30 22:00:00</th>\n      <td>282.58490</td>\n      <td>284.91806</td>\n      <td>285.48972</td>\n      <td>282.00750</td>\n      <td>280.65344</td>\n      <td>281.78510</td>\n      <td>280.33530</td>\n      <td>279.03757</td>\n      <td>280.94460</td>\n      <td>278.20285</td>\n      <td>...</td>\n      <td>283.43890</td>\n      <td>283.68546</td>\n      <td>283.12845</td>\n      <td>282.89084</td>\n      <td>282.32034</td>\n      <td>282.61334</td>\n      <td>282.51720</td>\n      <td>283.19464</td>\n      <td>282.66028</td>\n      <td>283.66272</td>\n    </tr>\n    <tr>\n      <th>2023-04-30 23:00:00</th>\n      <td>282.01843</td>\n      <td>284.06670</td>\n      <td>284.58722</td>\n      <td>281.51746</td>\n      <td>279.96115</td>\n      <td>280.92172</td>\n      <td>279.81880</td>\n      <td>278.43683</td>\n      <td>280.38416</td>\n      <td>277.53107</td>\n      <td>...</td>\n      <td>283.27173</td>\n      <td>283.21545</td>\n      <td>283.13504</td>\n      <td>282.79962</td>\n      <td>282.07608</td>\n      <td>282.56903</td>\n      <td>282.12310</td>\n      <td>282.92368</td>\n      <td>282.31406</td>\n      <td>283.55370</td>\n    </tr>\n  </tbody>\n</table>\n<p>5 rows × 350 columns</p>\n</div>"
     },
     "execution_count": 11,
     "metadata": {},
     "output_type": "execute_result"
    }
   ],
   "source": [
    "tmp.tail()"
   ],
   "metadata": {
    "collapsed": false,
    "ExecuteTime": {
     "start_time": "2023-05-11T14:57:24.913177Z",
     "end_time": "2023-05-11T14:57:25.052466Z"
    }
   }
  },
  {
   "cell_type": "code",
   "execution_count": 12,
   "outputs": [],
   "source": [
    "del tmp"
   ],
   "metadata": {
    "collapsed": false,
    "ExecuteTime": {
     "start_time": "2023-05-11T15:00:36.356566Z",
     "end_time": "2023-05-11T15:00:36.396177Z"
    }
   }
  },
  {
   "cell_type": "code",
   "execution_count": null,
   "outputs": [],
   "source": [],
   "metadata": {
    "collapsed": false
   }
  },
  {
   "cell_type": "code",
   "execution_count": 14,
   "outputs": [],
   "source": [
    "import netCDF4 as nc\n",
    "fn = './data/H_ERA5_ECMW_T639_TA-_0002m_Euro_025d_S202106010000_E202106302300_INS_MAP_01h_NA-_noc_org_NA_NA---_NA---_NA---.nc'\n",
    "ds = nc.Dataset(fn)"
   ],
   "metadata": {
    "collapsed": false,
    "ExecuteTime": {
     "start_time": "2023-05-11T15:01:17.560714Z",
     "end_time": "2023-05-11T15:01:17.609725Z"
    }
   }
  },
  {
   "cell_type": "code",
   "execution_count": 16,
   "outputs": [
    {
     "data": {
      "text/plain": "<class 'netCDF4._netCDF4.Dataset'>\nroot group (NETCDF3_64BIT_OFFSET data model, file format NETCDF3):\n    Conventions: CF-1.6\n    history: 2021-07-06 00:01:15 GMT by grib_to_netcdf-2.20.0: /opt/ecmwf/mars-client/bin/grib_to_netcdf -S param -o /cache/data8/adaptor.mars.internal-1625529673.4568622-21508-7-84d3d361-0a61-4666-ad65-53e47213fc6c.nc /cache/tmp/84d3d361-0a61-4666-ad65-53e47213fc6c-adaptor.mars.internal-1625529656.870412-21508-10-tmp.grib\n    dimensions(sizes): longitude(271), latitude(185), time(720)\n    variables(dimensions): float32 longitude(longitude), float32 latitude(latitude), int32 time(time), int16 t2m(time, latitude, longitude)\n    groups: "
     },
     "execution_count": 16,
     "metadata": {},
     "output_type": "execute_result"
    }
   ],
   "source": [
    "ds"
   ],
   "metadata": {
    "collapsed": false,
    "ExecuteTime": {
     "start_time": "2023-05-11T15:01:22.459800Z",
     "end_time": "2023-05-11T15:01:22.487795Z"
    }
   }
  },
  {
   "cell_type": "code",
   "execution_count": 17,
   "outputs": [
    {
     "name": "stdout",
     "output_type": "stream",
     "text": [
      "<class 'netCDF4._netCDF4.Variable'>\n",
      "float32 longitude(longitude)\n",
      "    units: degrees_east\n",
      "    long_name: longitude\n",
      "unlimited dimensions: \n",
      "current shape = (271,)\n",
      "filling on, default _FillValue of 9.969209968386869e+36 used\n",
      "<class 'netCDF4._netCDF4.Variable'>\n",
      "float32 latitude(latitude)\n",
      "    units: degrees_north\n",
      "    long_name: latitude\n",
      "unlimited dimensions: \n",
      "current shape = (185,)\n",
      "filling on, default _FillValue of 9.969209968386869e+36 used\n",
      "<class 'netCDF4._netCDF4.Variable'>\n",
      "int32 time(time)\n",
      "    units: hours since 1900-01-01 00:00:00.0\n",
      "    long_name: time\n",
      "    calendar: gregorian\n",
      "unlimited dimensions: \n",
      "current shape = (720,)\n",
      "filling on, default _FillValue of -2147483647 used\n",
      "<class 'netCDF4._netCDF4.Variable'>\n",
      "int16 t2m(time, latitude, longitude)\n",
      "    scale_factor: 0.000916619835140311\n",
      "    add_offset: 294.5759577057074\n",
      "    _FillValue: -32767\n",
      "    missing_value: -32767\n",
      "    units: K\n",
      "    long_name: 2 metre temperature\n",
      "unlimited dimensions: \n",
      "current shape = (720, 185, 271)\n",
      "filling on\n"
     ]
    }
   ],
   "source": [
    "for var in ds.variables.values():\n",
    "    print(var)"
   ],
   "metadata": {
    "collapsed": false,
    "ExecuteTime": {
     "start_time": "2023-05-11T15:02:35.251491Z",
     "end_time": "2023-05-11T15:02:35.261255Z"
    }
   }
  },
  {
   "cell_type": "code",
   "execution_count": 19,
   "outputs": [
    {
     "data": {
      "text/plain": "masked_array(\n  data=[[[272.24434866, 272.62657913, 272.96664509, ..., 274.20133201,\n          274.22241427, 274.24807962],\n         [272.3754253 , 272.72099098, 273.06655665, ..., 274.37915626,\n          274.38832246, 274.36174048],\n         [272.84565127, 273.16830146, 273.33420965, ..., 274.55881375,\n          274.48090106, 274.45340246],\n         ...,\n         [293.67950351, 293.6190066 , 293.63092266, ..., 304.74035506,\n          304.44886995, 304.77518661],\n         [293.55850969, 293.56675927, 293.58417504, ..., 304.89251395,\n          304.63861026, 304.53503221],\n         [293.59334124, 293.61167364, 293.66208773, ..., 305.02175735,\n          304.52769926, 304.57444687]],\n\n        [[271.96752947, 272.43592221, 272.90523156, ..., 274.29391061,\n          274.34065823, 274.36357372],\n         [271.73104155, 272.19393457, 272.66874365, ..., 274.40665485,\n          274.45340246, 274.46165204],\n         [272.37909178, 272.68799266, 272.92631382, ..., 274.45156923,\n          274.43781993, 274.44790275],\n         ...,\n         [293.77758183, 293.7390838 , 293.74091704, ..., 304.07488906,\n          303.51391772, 303.69815831],\n         [293.56492603, 293.58417504, 293.59059138, ..., 304.25271331,\n          303.76782141, 303.6055797 ],\n         [293.52551137, 293.55117673, 293.58050856, ..., 304.38287332,\n          303.75590535, 303.77240451]],\n\n        [[271.48538744, 272.03627596, 272.59449744, ..., 274.15275116,\n          274.22883061, 274.32507569],\n         [271.08665781, 271.63571309, 272.20218415, ..., 274.31315963,\n          274.37548978, 274.41490443],\n         [271.77962241, 272.10410583, 272.39925741, ..., 274.44423627,\n          274.43598669, 274.47540134],\n         ...,\n         [293.90499199, 293.83899536, 293.80508042, ..., 302.45613843,\n          301.96208034, 302.510219  ],\n         [293.6235897 , 293.65108829, 293.62542294, ..., 302.88969961,\n          302.53588435, 302.44055589],\n         [293.49067982, 293.53742743, 293.57317561, ..., 303.36634192,\n          302.71004212, 302.83286918]],\n\n        ...,\n\n        [[275.34985666, 275.38468822, 275.54692993, ..., 278.14829702,\n          278.12354828, 278.09971617],\n         [274.94196084, 275.10420255, 275.27011074, ..., 278.49477932,\n          278.46544748, 278.42786607],\n         [275.28935975, 275.20503073, 275.06295466, ..., 278.84951119,\n          278.80276358, 278.76426555],\n         ...,\n         [295.16076116, 295.14059552, 295.1488451 , ..., 307.32430637,\n          307.36738751, 308.06676844],\n         [295.13876228, 295.14701186, 295.1580113 , ..., 307.48104836,\n          307.55254471, 307.98702251],\n         [295.1488451 , 295.15617806, 295.16626088, ..., 307.68545459,\n          307.71478642, 308.17034648]],\n\n        [[275.9520759 , 275.9383266 , 276.01990576, ..., 278.07496743,\n          278.05113532, 278.03371954],\n         [275.69633896, 275.77791813, 275.86224715, ..., 278.39761762,\n          278.37011902, 278.34262043],\n         [275.89707871, 275.96124209, 275.95390913, ..., 278.729434  ,\n          278.68635286, 278.65702103],\n         ...,\n         [295.02235157, 295.00310255, 295.00676903, ..., 306.46543359,\n          306.27019356, 306.87974575],\n         [294.99118649, 294.99485297, 295.00676903, ..., 306.53418007,\n          306.5121812 , 306.76608489],\n         [294.99668621, 295.00860227, 295.03426762, ..., 306.70742122,\n          306.43610175, 306.94574238]],\n\n        [[276.16656494, 276.17114804, 276.25089396, ..., 278.12996462,\n          278.09879955, 278.07313419],\n         [275.85491419, 275.93466012, 276.01623928, ..., 278.45811452,\n          278.42328297, 278.3783686 ],\n         [275.88791251, 275.94840942, 275.96582519, ..., 278.78443119,\n          278.73310048, 278.68451962],\n         ...,\n         [294.96185466, 294.98110367, 295.01043551, ..., 305.20966441,\n          304.95576072, 305.68080701],\n         [294.94810536, 294.98752001, 295.01868509, ..., 305.42690331,\n          305.3059095 , 305.49931628],\n         [294.94443888, 294.98752001, 295.0287679 , ..., 305.46540135,\n          305.19866498, 305.67255743]]],\n  mask=False,\n  fill_value=1e+20)"
     },
     "execution_count": 19,
     "metadata": {},
     "output_type": "execute_result"
    }
   ],
   "source": [
    "ds['t2m'][:]"
   ],
   "metadata": {
    "collapsed": false,
    "ExecuteTime": {
     "start_time": "2023-05-11T15:03:11.252799Z",
     "end_time": "2023-05-11T15:03:12.012098Z"
    }
   }
  },
  {
   "cell_type": "code",
   "execution_count": null,
   "outputs": [],
   "source": [],
   "metadata": {
    "collapsed": false
   }
  },
  {
   "cell_type": "code",
   "execution_count": 21,
   "outputs": [],
   "source": [
    "import xarray as xr\n",
    "ds2 = xr.open_dataset(fn)\n",
    "df = ds2.to_dataframe()"
   ],
   "metadata": {
    "collapsed": false,
    "ExecuteTime": {
     "start_time": "2023-05-11T15:04:15.097633Z",
     "end_time": "2023-05-11T15:04:19.497326Z"
    }
   }
  },
  {
   "cell_type": "code",
   "execution_count": 22,
   "outputs": [
    {
     "data": {
      "text/plain": "                                               t2m\nlongitude latitude time                           \n-22.0     72.5     2021-06-01 00:00:00  272.244354\n                   2021-06-01 01:00:00  271.967529\n                   2021-06-01 02:00:00  271.485382\n                   2021-06-01 03:00:00  271.258972\n                   2021-06-01 04:00:00  271.129730",
      "text/html": "<div>\n<style scoped>\n    .dataframe tbody tr th:only-of-type {\n        vertical-align: middle;\n    }\n\n    .dataframe tbody tr th {\n        vertical-align: top;\n    }\n\n    .dataframe thead th {\n        text-align: right;\n    }\n</style>\n<table border=\"1\" class=\"dataframe\">\n  <thead>\n    <tr style=\"text-align: right;\">\n      <th></th>\n      <th></th>\n      <th></th>\n      <th>t2m</th>\n    </tr>\n    <tr>\n      <th>longitude</th>\n      <th>latitude</th>\n      <th>time</th>\n      <th></th>\n    </tr>\n  </thead>\n  <tbody>\n    <tr>\n      <th rowspan=\"5\" valign=\"top\">-22.0</th>\n      <th rowspan=\"5\" valign=\"top\">72.5</th>\n      <th>2021-06-01 00:00:00</th>\n      <td>272.244354</td>\n    </tr>\n    <tr>\n      <th>2021-06-01 01:00:00</th>\n      <td>271.967529</td>\n    </tr>\n    <tr>\n      <th>2021-06-01 02:00:00</th>\n      <td>271.485382</td>\n    </tr>\n    <tr>\n      <th>2021-06-01 03:00:00</th>\n      <td>271.258972</td>\n    </tr>\n    <tr>\n      <th>2021-06-01 04:00:00</th>\n      <td>271.129730</td>\n    </tr>\n  </tbody>\n</table>\n</div>"
     },
     "execution_count": 22,
     "metadata": {},
     "output_type": "execute_result"
    }
   ],
   "source": [
    "df.head()"
   ],
   "metadata": {
    "collapsed": false,
    "ExecuteTime": {
     "start_time": "2023-05-11T15:04:19.782132Z",
     "end_time": "2023-05-11T15:04:19.796119Z"
    }
   }
  },
  {
   "cell_type": "code",
   "execution_count": null,
   "outputs": [],
   "source": [],
   "metadata": {
    "collapsed": false
   }
  },
  {
   "cell_type": "code",
   "execution_count": 1,
   "outputs": [
    {
     "name": "stdout",
     "output_type": "stream",
     "text": [
      "H_ERA5_ECMW_T639_WON_0100m_Euro_025d_S202101010000_E202101312300_CFR_MAP_01h_NA-_noc_org_NA_NA---_NA---_PhM01.nc\n",
      "<class 'netCDF4._netCDF4.Variable'>\n",
      "float64 longitude(longitude)\n",
      "    units: degrees_east\n",
      "    long_name: longitude\n",
      "unlimited dimensions: \n",
      "current shape = (271,)\n",
      "filling on, default _FillValue of 9.969209968386869e+36 used\n",
      "<class 'netCDF4._netCDF4.Variable'>\n",
      "float64 latitude(latitude)\n",
      "    units: degrees_north\n",
      "    long_name: latitude\n",
      "unlimited dimensions: \n",
      "current shape = (185,)\n",
      "filling on, default _FillValue of 9.969209968386869e+36 used\n",
      "<class 'netCDF4._netCDF4.Variable'>\n",
      "int32 time(time)\n",
      "    units: hours since 1900-01-01 00:00:0.0\n",
      "    long_name: time\n",
      "    calendar: gregorian\n",
      "unlimited dimensions: time\n",
      "current shape = (744,)\n",
      "filling on, default _FillValue of -2147483647 used\n",
      "<class 'netCDF4._netCDF4.Variable'>\n",
      "float32 woncfr(time, latitude, longitude)\n",
      "    units: kW/kW_installed\n",
      "    _FillValue: 1e+30\n",
      "    long_name: Onshore Wind Capacity factor\n",
      "unlimited dimensions: time\n",
      "current shape = (744, 185, 271)\n",
      "filling on\n",
      "-------\n"
     ]
    }
   ],
   "source": [
    "from os import listdir\n",
    "import xarray as xr\n",
    "import netCDF4 as nc\n",
    "\n",
    "for file in listdir('./ncf'):\n",
    "    if file.endswith('.nc'):\n",
    "        print(file)\n",
    "        ds = nc.Dataset('./ncf/'+file)\n",
    "        for var in ds.variables.values():\n",
    "            print(var)\n",
    "        del ds\n",
    "        print('-------')"
   ],
   "metadata": {
    "collapsed": false,
    "ExecuteTime": {
     "end_time": "2023-05-16T15:34:15.762136200Z",
     "start_time": "2023-05-16T15:34:14.557639500Z"
    }
   }
  },
  {
   "cell_type": "code",
   "execution_count": null,
   "outputs": [],
   "source": [],
   "metadata": {
    "collapsed": false
   }
  }
 ],
 "metadata": {
  "kernelspec": {
   "display_name": "Python 3",
   "language": "python",
   "name": "python3"
  },
  "language_info": {
   "codemirror_mode": {
    "name": "ipython",
    "version": 2
   },
   "file_extension": ".py",
   "mimetype": "text/x-python",
   "name": "python",
   "nbconvert_exporter": "python",
   "pygments_lexer": "ipython2",
   "version": "2.7.6"
  }
 },
 "nbformat": 4,
 "nbformat_minor": 0
}
