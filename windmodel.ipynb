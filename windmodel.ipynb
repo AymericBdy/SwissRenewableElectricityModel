{
 "cells": [
  {
   "cell_type": "markdown",
   "metadata": {},
   "source": [
    "# Modèle de la production éolienne Suisse\n",
    "\n",
    "Ce modèle utilise :\n",
    "- les installations éoliennes suisses (données SFOE/OFEN) avec leurs coordonnées géographiques\n",
    "- les facteurs de production éolienne par région NUTS2 (données dérivées de ERA5, voir https://cds.climate.copernicus.eu/cdsapp#!/dataset/10.24381/cds.4bd77450)\n",
    "\n",
    "Il permet de calculer la production éolienne Suisse totale et par région NUTS2."
   ]
  },
  {
   "cell_type": "code",
   "execution_count": 1,
   "metadata": {
    "ExecuteTime": {
     "end_time": "2023-05-17T08:16:45.171622900Z",
     "start_time": "2023-05-17T08:16:43.989340200Z"
    }
   },
   "outputs": [],
   "source": [
    "import pandas as pd\n",
    "\n",
    "wind_plants = pd.read_csv('./data/CH_ElectricityProductionPlant_final.csv', parse_dates=True)\n",
    "wind_plants = wind_plants[wind_plants['SubCategory'] == 'Wind_Onshore_CH']"
   ]
  },
  {
   "cell_type": "code",
   "execution_count": 2,
   "metadata": {
    "ExecuteTime": {
     "end_time": "2023-05-16T16:59:43.916058900Z",
     "start_time": "2023-05-16T16:59:43.850899100Z"
    }
   },
   "outputs": [
    {
     "data": {
      "text/html": [
       "<div>\n",
       "<style scoped>\n",
       "    .dataframe tbody tr th:only-of-type {\n",
       "        vertical-align: middle;\n",
       "    }\n",
       "\n",
       "    .dataframe tbody tr th {\n",
       "        vertical-align: top;\n",
       "    }\n",
       "\n",
       "    .dataframe thead th {\n",
       "        text-align: right;\n",
       "    }\n",
       "</style>\n",
       "<table border=\"1\" class=\"dataframe\">\n",
       "  <thead>\n",
       "    <tr style=\"text-align: right;\">\n",
       "      <th></th>\n",
       "      <th>Unnamed: 0</th>\n",
       "      <th>xtf_id</th>\n",
       "      <th>Canton</th>\n",
       "      <th>BeginningOfOperation</th>\n",
       "      <th>InitialPower</th>\n",
       "      <th>TotalPower</th>\n",
       "      <th>SubCategory</th>\n",
       "      <th>PlantCategory</th>\n",
       "      <th>_x</th>\n",
       "      <th>_y</th>\n",
       "      <th>CumulativePower</th>\n",
       "    </tr>\n",
       "  </thead>\n",
       "  <tbody>\n",
       "    <tr>\n",
       "      <th>1151</th>\n",
       "      <td>168931</td>\n",
       "      <td>8801</td>\n",
       "      <td>ZH</td>\n",
       "      <td>2000-11-02</td>\n",
       "      <td>7.0</td>\n",
       "      <td>7.0</td>\n",
       "      <td>Wind_Onshore_CH</td>\n",
       "      <td>NaN</td>\n",
       "      <td>2693622.0</td>\n",
       "      <td>1263996.0</td>\n",
       "      <td>7.0</td>\n",
       "    </tr>\n",
       "    <tr>\n",
       "      <th>1152</th>\n",
       "      <td>168930</td>\n",
       "      <td>9477</td>\n",
       "      <td>ZH</td>\n",
       "      <td>2000-11-02</td>\n",
       "      <td>7.0</td>\n",
       "      <td>7.0</td>\n",
       "      <td>Wind_Onshore_CH</td>\n",
       "      <td>NaN</td>\n",
       "      <td>2693622.0</td>\n",
       "      <td>1263996.0</td>\n",
       "      <td>14.0</td>\n",
       "    </tr>\n",
       "    <tr>\n",
       "      <th>1287</th>\n",
       "      <td>169088</td>\n",
       "      <td>8898</td>\n",
       "      <td>ZH</td>\n",
       "      <td>2002-04-01</td>\n",
       "      <td>6.4</td>\n",
       "      <td>6.4</td>\n",
       "      <td>Wind_Onshore_CH</td>\n",
       "      <td>NaN</td>\n",
       "      <td>2692041.0</td>\n",
       "      <td>1259079.0</td>\n",
       "      <td>20.4</td>\n",
       "    </tr>\n",
       "    <tr>\n",
       "      <th>1304</th>\n",
       "      <td>168929</td>\n",
       "      <td>8772</td>\n",
       "      <td>ZH</td>\n",
       "      <td>2002-06-21</td>\n",
       "      <td>7.0</td>\n",
       "      <td>7.0</td>\n",
       "      <td>Wind_Onshore_CH</td>\n",
       "      <td>NaN</td>\n",
       "      <td>2700021.0</td>\n",
       "      <td>1265400.0</td>\n",
       "      <td>27.4</td>\n",
       "    </tr>\n",
       "    <tr>\n",
       "      <th>1309</th>\n",
       "      <td>168610</td>\n",
       "      <td>8361</td>\n",
       "      <td>SO</td>\n",
       "      <td>2002-07-02</td>\n",
       "      <td>6.4</td>\n",
       "      <td>6.4</td>\n",
       "      <td>Wind_Onshore_CH</td>\n",
       "      <td>NaN</td>\n",
       "      <td>2607190.0</td>\n",
       "      <td>1232287.0</td>\n",
       "      <td>33.8</td>\n",
       "    </tr>\n",
       "    <tr>\n",
       "      <th>...</th>\n",
       "      <td>...</td>\n",
       "      <td>...</td>\n",
       "      <td>...</td>\n",
       "      <td>...</td>\n",
       "      <td>...</td>\n",
       "      <td>...</td>\n",
       "      <td>...</td>\n",
       "      <td>...</td>\n",
       "      <td>...</td>\n",
       "      <td>...</td>\n",
       "      <td>...</td>\n",
       "    </tr>\n",
       "    <tr>\n",
       "      <th>113640</th>\n",
       "      <td>47</td>\n",
       "      <td>13578</td>\n",
       "      <td>TI</td>\n",
       "      <td>2020-10-08</td>\n",
       "      <td>2550.0</td>\n",
       "      <td>2550.0</td>\n",
       "      <td>Wind_Onshore_CH</td>\n",
       "      <td>NaN</td>\n",
       "      <td>2685668.0</td>\n",
       "      <td>1157159.0</td>\n",
       "      <td>78168.8</td>\n",
       "    </tr>\n",
       "    <tr>\n",
       "      <th>114193</th>\n",
       "      <td>12</td>\n",
       "      <td>13179</td>\n",
       "      <td>TI</td>\n",
       "      <td>2020-10-19</td>\n",
       "      <td>2550.0</td>\n",
       "      <td>2550.0</td>\n",
       "      <td>Wind_Onshore_CH</td>\n",
       "      <td>NaN</td>\n",
       "      <td>2686253.0</td>\n",
       "      <td>1157143.0</td>\n",
       "      <td>80718.8</td>\n",
       "    </tr>\n",
       "    <tr>\n",
       "      <th>114922</th>\n",
       "      <td>45</td>\n",
       "      <td>13582</td>\n",
       "      <td>TI</td>\n",
       "      <td>2020-10-29</td>\n",
       "      <td>2550.0</td>\n",
       "      <td>2550.0</td>\n",
       "      <td>Wind_Onshore_CH</td>\n",
       "      <td>NaN</td>\n",
       "      <td>2685655.0</td>\n",
       "      <td>1157555.0</td>\n",
       "      <td>83268.8</td>\n",
       "    </tr>\n",
       "    <tr>\n",
       "      <th>116126</th>\n",
       "      <td>20</td>\n",
       "      <td>13171</td>\n",
       "      <td>TI</td>\n",
       "      <td>2020-11-16</td>\n",
       "      <td>2550.0</td>\n",
       "      <td>2550.0</td>\n",
       "      <td>Wind_Onshore_CH</td>\n",
       "      <td>NaN</td>\n",
       "      <td>2686251.0</td>\n",
       "      <td>1156372.0</td>\n",
       "      <td>85818.8</td>\n",
       "    </tr>\n",
       "    <tr>\n",
       "      <th>116685</th>\n",
       "      <td>28</td>\n",
       "      <td>13159</td>\n",
       "      <td>TI</td>\n",
       "      <td>2020-11-23</td>\n",
       "      <td>2550.0</td>\n",
       "      <td>2550.0</td>\n",
       "      <td>Wind_Onshore_CH</td>\n",
       "      <td>NaN</td>\n",
       "      <td>2685886.0</td>\n",
       "      <td>1156734.0</td>\n",
       "      <td>88368.8</td>\n",
       "    </tr>\n",
       "  </tbody>\n",
       "</table>\n",
       "<p>68 rows × 11 columns</p>\n",
       "</div>"
      ],
      "text/plain": [
       "        Unnamed: 0  xtf_id Canton BeginningOfOperation  InitialPower   \n",
       "1151        168931    8801     ZH           2000-11-02           7.0  \\\n",
       "1152        168930    9477     ZH           2000-11-02           7.0   \n",
       "1287        169088    8898     ZH           2002-04-01           6.4   \n",
       "1304        168929    8772     ZH           2002-06-21           7.0   \n",
       "1309        168610    8361     SO           2002-07-02           6.4   \n",
       "...            ...     ...    ...                  ...           ...   \n",
       "113640          47   13578     TI           2020-10-08        2550.0   \n",
       "114193          12   13179     TI           2020-10-19        2550.0   \n",
       "114922          45   13582     TI           2020-10-29        2550.0   \n",
       "116126          20   13171     TI           2020-11-16        2550.0   \n",
       "116685          28   13159     TI           2020-11-23        2550.0   \n",
       "\n",
       "        TotalPower      SubCategory PlantCategory         _x         _y   \n",
       "1151           7.0  Wind_Onshore_CH           NaN  2693622.0  1263996.0  \\\n",
       "1152           7.0  Wind_Onshore_CH           NaN  2693622.0  1263996.0   \n",
       "1287           6.4  Wind_Onshore_CH           NaN  2692041.0  1259079.0   \n",
       "1304           7.0  Wind_Onshore_CH           NaN  2700021.0  1265400.0   \n",
       "1309           6.4  Wind_Onshore_CH           NaN  2607190.0  1232287.0   \n",
       "...            ...              ...           ...        ...        ...   \n",
       "113640      2550.0  Wind_Onshore_CH           NaN  2685668.0  1157159.0   \n",
       "114193      2550.0  Wind_Onshore_CH           NaN  2686253.0  1157143.0   \n",
       "114922      2550.0  Wind_Onshore_CH           NaN  2685655.0  1157555.0   \n",
       "116126      2550.0  Wind_Onshore_CH           NaN  2686251.0  1156372.0   \n",
       "116685      2550.0  Wind_Onshore_CH           NaN  2685886.0  1156734.0   \n",
       "\n",
       "        CumulativePower  \n",
       "1151                7.0  \n",
       "1152               14.0  \n",
       "1287               20.4  \n",
       "1304               27.4  \n",
       "1309               33.8  \n",
       "...                 ...  \n",
       "113640          78168.8  \n",
       "114193          80718.8  \n",
       "114922          83268.8  \n",
       "116126          85818.8  \n",
       "116685          88368.8  \n",
       "\n",
       "[68 rows x 11 columns]"
      ]
     },
     "execution_count": 2,
     "metadata": {},
     "output_type": "execute_result"
    }
   ],
   "source": [
    "wind_plants"
   ]
  },
  {
   "cell_type": "markdown",
   "metadata": {},
   "source": [
    "#### Mapping de leurs positions vers les régions NUTS niveau 2\n",
    "Les coordonnées _x et _y sont au format MN95 (EPSG:2056) (système de coordonnées suisse) : on les convertit en degrés décimaux (EPSG:4326) (longitude/latitude GPS) pour pouvoir les classer dans les régions NUTS2."
   ]
  },
  {
   "cell_type": "code",
   "execution_count": 26,
   "metadata": {
    "ExecuteTime": {
     "end_time": "2023-05-16T12:28:19.670718900Z",
     "start_time": "2023-05-16T12:28:09.846357200Z"
    }
   },
   "outputs": [
    {
     "name": "stdout",
     "output_type": "stream",
     "text": [
      "region\n",
      "CH01     7\n",
      "CH02    30\n",
      "CH03     1\n",
      "CH04     8\n",
      "CH05     8\n",
      "CH06     9\n",
      "CH07     5\n",
      "dtype: int64\n"
     ]
    }
   ],
   "source": [
    "from math import isnan\n",
    "from shapely import Point\n",
    "import geopandas as gpd\n",
    "from pyproj import Transformer\n",
    "\n",
    "# Définir la projection\n",
    "transformer = Transformer.from_crs(\"EPSG:2056\", \"EPSG:4326\")  # MN95 -> WGS84\n",
    "\n",
    "# Charger la carte NUTS2 dans geopandas\n",
    "nuts2 = gpd.read_file(\"./data/NUTS_RG_01M_2021_4326_LEVL_2.geojson\")\n",
    "ch_nuts = nuts2[nuts2['CNTR_CODE'] == 'CH']\n",
    "\n",
    "# Créer une colonne vide pour stocker le nom de la région\n",
    "wind_plants['region'] = 'glagla'  # Valeur par défaut pour les installations sans coordonnées\n",
    "\n",
    "# Boucler sur chaque paire de coordonnées MN95\n",
    "for i in wind_plants.index:\n",
    "    if isnan(wind_plants.loc[i, '_x']) or isnan(wind_plants.loc[i, '_y']):\n",
    "        continue\n",
    "    # Convertir les coordonnées en degrés décimaux\n",
    "    lat, lon = transformer.transform(wind_plants.loc[i, '_x'], wind_plants.loc[i, '_y'])\n",
    "    point = Point(lon, lat)\n",
    "\n",
    "    # Trouver la région correspondante dans la carte NUTS2\n",
    "    for index, row in ch_nuts.iterrows():\n",
    "        if row.geometry.contains(point):\n",
    "            wind_plants.loc[i, 'region'] = row.NUTS_ID\n",
    "            break\n",
    "\n",
    "# Afficher la liste de coordonnées classées par région\n",
    "print(wind_plants.groupby('region').size())"
   ]
  },
  {
   "cell_type": "code",
   "execution_count": 27,
   "metadata": {
    "ExecuteTime": {
     "end_time": "2023-05-16T12:28:19.671718200Z",
     "start_time": "2023-05-16T12:28:19.668719800Z"
    }
   },
   "outputs": [
    {
     "name": "stdout",
     "output_type": "stream",
     "text": [
      "Puissance des éoliennes installées au 30 Avril 2023 : 88368.8 kWc\n"
     ]
    }
   ],
   "source": [
    "installed_power = wind_plants['TotalPower'].sum()\n",
    "print('Puissance des éoliennes installées au 30 Avril 2023 :', installed_power, 'kWc')"
   ]
  },
  {
   "cell_type": "code",
   "execution_count": 28,
   "metadata": {
    "ExecuteTime": {
     "end_time": "2023-05-16T12:28:19.672717800Z",
     "start_time": "2023-05-16T12:28:19.669719300Z"
    }
   },
   "outputs": [
    {
     "name": "stdout",
     "output_type": "stream",
     "text": [
      "Puissance des éoliennes installées avant 2022 : 88368.8 kWc\n"
     ]
    }
   ],
   "source": [
    "wind_plants_2021 = wind_plants[wind_plants['BeginningOfOperation'] < '2022-01-01']\n",
    "installed_power_2021 = wind_plants_2021['TotalPower'].sum()\n",
    "print('Puissance des éoliennes installées avant 2022 :', installed_power_2021, 'kWc')"
   ]
  },
  {
   "cell_type": "code",
   "execution_count": 29,
   "metadata": {
    "ExecuteTime": {
     "end_time": "2023-05-16T12:28:19.688729500Z",
     "start_time": "2023-05-16T12:28:19.673717300Z"
    }
   },
   "outputs": [
    {
     "name": "stdout",
     "output_type": "stream",
     "text": [
      "Puissance des éoliennes installées avant 2023 : 88368.8 kWc\n"
     ]
    }
   ],
   "source": [
    "wind_plants_2022 = wind_plants[wind_plants['BeginningOfOperation'] < '2023-01-01']\n",
    "installed_power_2022 = wind_plants_2022['TotalPower'].sum()\n",
    "print('Puissance des éoliennes installées avant 2023 :', installed_power_2022, 'kWc')"
   ]
  },
  {
   "cell_type": "code",
   "execution_count": 30,
   "metadata": {
    "ExecuteTime": {
     "end_time": "2023-05-16T12:28:19.920155Z",
     "start_time": "2023-05-16T12:28:19.693723800Z"
    }
   },
   "outputs": [
    {
     "name": "stdout",
     "output_type": "stream",
     "text": [
      "Puissance installée entre 2021 et 2022 :  0.0\n"
     ]
    }
   ],
   "source": [
    "diff_21_22 = wind_plants[wind_plants['BeginningOfOperation'] < '2022-01-01']['TotalPower'].sum() - \\\n",
    "             wind_plants[wind_plants['BeginningOfOperation'] < '2021-01-01']['TotalPower'].sum()\n",
    "print('Puissance installée entre 2021 et 2022 : ', diff_21_22)"
   ]
  },
  {
   "cell_type": "markdown",
   "metadata": {},
   "source": [
    "Valeur OFEN : 86.94 MWc"
   ]
  },
  {
   "cell_type": "code",
   "execution_count": 30,
   "metadata": {
    "ExecuteTime": {
     "end_time": "2023-05-16T12:28:19.936146200Z",
     "start_time": "2023-05-16T12:28:19.735596700Z"
    }
   },
   "outputs": [],
   "source": []
  },
  {
   "cell_type": "code",
   "execution_count": 31,
   "metadata": {
    "ExecuteTime": {
     "end_time": "2023-05-16T12:28:19.940144Z",
     "start_time": "2023-05-16T12:28:19.740594300Z"
    }
   },
   "outputs": [],
   "source": [
    "ofen_data = {\n",
    "    '2009-01-01': 13.56,\n",
    "    '2010-01-01': 17.56,\n",
    "    '2011-01-01': 42.26,\n",
    "    '2012-01-01': 45.51,\n",
    "    '2013-01-01': 49.42,\n",
    "    '2014-01-01': 60.29,\n",
    "    '2015-01-01': 60.29,\n",
    "    '2016-01-01': 60.29,\n",
    "    '2017-01-01': 75.37,\n",
    "    '2018-01-01': 75.37,\n",
    "    '2019-01-01': 75.37,\n",
    "    '2020-01-01': 75.37,\n",
    "    '2021-01-01': 87.12,\n",
    "    '2022-01-01': 86.94\n",
    "}\n",
    "ofen_data = pd.DataFrame.from_dict(ofen_data, orient='index', columns=['installed_ofen'])\n",
    "ofen_data.index = pd.to_datetime(ofen_data.index)\n",
    "ofen_data = ofen_data.resample('M').max().interpolate(method='linear', limit_direction='forward')"
   ]
  },
  {
   "cell_type": "code",
   "execution_count": 32,
   "metadata": {
    "ExecuteTime": {
     "end_time": "2023-05-16T12:28:19.942143700Z",
     "start_time": "2023-05-16T12:28:19.775564Z"
    }
   },
   "outputs": [],
   "source": [
    "by_date = wind_plants.groupby('BeginningOfOperation')['CumulativePower'].max()\n",
    "by_date.index = pd.to_datetime(by_date.index)\n",
    "by_date_c = by_date['2009-01-01':] / 1000\n",
    "data_monthly = by_date_c.resample('M').max().fillna(method='ffill')\n",
    "\n",
    "#ofen_data['correction'] = 1\n",
    "#for m in ofen_data.index:\n",
    "#    ofen_data.loc[m, 'correction'] = data_monthly[m] / ofen_data.loc[m, 'installed_ofen']"
   ]
  },
  {
   "cell_type": "code",
   "execution_count": 33,
   "metadata": {
    "ExecuteTime": {
     "end_time": "2023-05-16T12:28:20.807157200Z",
     "start_time": "2023-05-16T12:28:19.853194Z"
    }
   },
   "outputs": [
    {
     "data": {
      "image/png": "[encoded data removed]",
      "text/plain": [
       "<Figure size 1400x600 with 1 Axes>"
      ]
     },
     "metadata": {},
     "output_type": "display_data"
    }
   ],
   "source": [
    "from matplotlib import pyplot as plt\n",
    "\n",
    "fig, ax = plt.subplots(figsize=(14, 6))\n",
    "data_monthly.plot(ax=ax, label='Capacités installées (somme liste installations)', legend=True)\n",
    "ofen_data['installed_ofen'].plot(ax=ax, label='Capacités installées (OFEN)', legend=True)\n",
    "ax.set_ylabel('Puissance installée (MWc)')\n",
    "ax.set_xlabel('Year')\n",
    "ax.set_title('Evolution de la puissance solaire installée en Suisse');"
   ]
  },
  {
   "cell_type": "code",
   "execution_count": 33,
   "metadata": {
    "ExecuteTime": {
     "end_time": "2023-05-16T12:28:20.821149300Z",
     "start_time": "2023-05-16T12:28:20.816152400Z"
    }
   },
   "outputs": [],
   "source": []
  },
  {
   "cell_type": "markdown",
   "metadata": {},
   "source": [
    "### 2. Facteur de charge des éoliennes par emplacement\n",
    "\n",
    "**/!\\ Les régions NUTS-2 ne sont pas pertinentes car tous les points de la région ont le même poids et on obtient des facteurs de charge sous-évalués**\n",
    "\n",
    "Les facteurs de charge sont issus des données ERA5 (voir https://cds.climate.copernicus.eu/cdsapp#!/dataset/10.24381/cds.4bd77450) pour chaque région NUTS2.\n",
    "On lit simplement le fichier csv les contenant."
   ]
  },
  {
   "cell_type": "code",
   "execution_count": 2,
   "metadata": {
    "ExecuteTime": {
     "end_time": "2023-05-16T17:04:54.682086700Z",
     "start_time": "2023-05-16T17:04:22.087743600Z"
    }
   },
   "outputs": [],
   "source": [
    "wind_factor = pd.read_csv(\n",
    "    './data/H_ERA5_ECMW_T639_WON_0100m_Euro_NUT2_S197901010000_E202304302300_CFR_TIM_01h_NA-_noc_org_NA_NA---_NA---_PhM01.csv',\n",
    "    skiprows=52,\n",
    "    parse_dates=True,\n",
    "    index_col='Date')\n",
    "\n",
    "# le fichier contient tout l'Europe, on ne garde que la Suisse\n",
    "wind_factor = wind_factor.drop(columns=[col for col in wind_factor.columns if not col.startswith('CH')])\n",
    "wind_factor.fillna(0, inplace=True)"
   ]
  },
  {
   "cell_type": "code",
   "execution_count": 66,
   "metadata": {
    "ExecuteTime": {
     "end_time": "2023-05-17T08:25:37.760806Z",
     "start_time": "2023-05-17T08:25:31.643095500Z"
    }
   },
   "outputs": [
    {
     "name": "stdout",
     "output_type": "stream",
     "text": [
      "Read: H_ERA5_ECMW_T639_WON_0100m_Euro_025d_S202101010000_E202101312300_CFR_MAP_01h_NA-_noc_org_NA_NA---_NA---_PhM01.nc\n"
     ]
    }
   ],
   "source": [
    "from os import listdir\n",
    "import xarray as xr\n",
    "import pandas as pd\n",
    "\n",
    "files = listdir('./data/wind_2021')\n",
    "dfs = []\n",
    "for f in files:\n",
    "    #f = 'H_ERA5_ECMW_T639_WON_0100m_Euro_025d_S202106010000_E202106302300_CFR_MAP_01h_NA-_noc_org_NA_NA---_NA---_PhM01.nc'\n",
    "    #f = 'H_ERA5_ECMW_T639_WON_0100m_Euro_025d_S202109010000_E202109302300_CFR_MAP_01h_NA-_noc_org_NA_NA---_NA---_PhM01.nc'\n",
    "    #f = 'H_ERA5_ECMW_T639_WON_0100m_Euro_025d_S202110010000_E202110312300_CFR_MAP_01h_NA-_noc_org_NA_NA---_NA---_PhM01.nc'\n",
    "    print('Read:', f)\n",
    "    ds2 = xr.open_dataset(f'./data/wind_2021/{f}')\n",
    "    dfs.append(ds2.to_dataframe().dropna())\n",
    "    del ds2\n",
    "    break\n",
    "wind_factor = pd.concat(dfs)"
   ]
  },
  {
   "cell_type": "code",
   "execution_count": 67,
   "metadata": {
    "ExecuteTime": {
     "end_time": "2023-05-17T08:25:38.691580800Z",
     "start_time": "2023-05-17T08:25:37.739819300Z"
    }
   },
   "outputs": [],
   "source": [
    "wd40 = wind_factor.reset_index()"
   ]
  },
  {
   "cell_type": "code",
   "execution_count": 68,
   "metadata": {
    "ExecuteTime": {
     "end_time": "2023-05-17T08:25:40.395437500Z",
     "start_time": "2023-05-17T08:25:38.691580800Z"
    }
   },
   "outputs": [
    {
     "data": {
      "text/plain": "          longitude  latitude\n0             -22.0     71.25\n744           -22.0     71.00\n1488          -22.0     70.75\n2232          -22.0     66.25\n2976          -22.0     66.00\n...             ...       ...\n19341024       45.5     27.50\n19341768       45.5     27.25\n19342512       45.5     27.00\n19343256       45.5     26.75\n19344000       45.5     26.50\n\n[26001 rows x 2 columns]",
      "text/html": "<div>\n<style scoped>\n    .dataframe tbody tr th:only-of-type {\n        vertical-align: middle;\n    }\n\n    .dataframe tbody tr th {\n        vertical-align: top;\n    }\n\n    .dataframe thead th {\n        text-align: right;\n    }\n</style>\n<table border=\"1\" class=\"dataframe\">\n  <thead>\n    <tr style=\"text-align: right;\">\n      <th></th>\n      <th>longitude</th>\n      <th>latitude</th>\n    </tr>\n  </thead>\n  <tbody>\n    <tr>\n      <th>0</th>\n      <td>-22.0</td>\n      <td>71.25</td>\n    </tr>\n    <tr>\n      <th>744</th>\n      <td>-22.0</td>\n      <td>71.00</td>\n    </tr>\n    <tr>\n      <th>1488</th>\n      <td>-22.0</td>\n      <td>70.75</td>\n    </tr>\n    <tr>\n      <th>2232</th>\n      <td>-22.0</td>\n      <td>66.25</td>\n    </tr>\n    <tr>\n      <th>2976</th>\n      <td>-22.0</td>\n      <td>66.00</td>\n    </tr>\n    <tr>\n      <th>...</th>\n      <td>...</td>\n      <td>...</td>\n    </tr>\n    <tr>\n      <th>19341024</th>\n      <td>45.5</td>\n      <td>27.50</td>\n    </tr>\n    <tr>\n      <th>19341768</th>\n      <td>45.5</td>\n      <td>27.25</td>\n    </tr>\n    <tr>\n      <th>19342512</th>\n      <td>45.5</td>\n      <td>27.00</td>\n    </tr>\n    <tr>\n      <th>19343256</th>\n      <td>45.5</td>\n      <td>26.75</td>\n    </tr>\n    <tr>\n      <th>19344000</th>\n      <td>45.5</td>\n      <td>26.50</td>\n    </tr>\n  </tbody>\n</table>\n<p>26001 rows × 2 columns</p>\n</div>"
     },
     "execution_count": 68,
     "metadata": {},
     "output_type": "execute_result"
    }
   ],
   "source": [
    "wd40[['longitude', 'latitude']].drop_duplicates()"
   ]
  },
  {
   "cell_type": "code",
   "execution_count": 69,
   "metadata": {
    "ExecuteTime": {
     "end_time": "2023-05-17T08:25:42.276222900Z",
     "start_time": "2023-05-17T08:25:40.399433300Z"
    }
   },
   "outputs": [
    {
     "data": {
      "text/plain": "        Unnamed: 0  xtf_id Canton BeginningOfOperation  InitialPower   \n1151        168931    8801     ZH           2000-11-02           7.0  \\\n1152        168930    9477     ZH           2000-11-02           7.0   \n1287        169088    8898     ZH           2002-04-01           6.4   \n1304        168929    8772     ZH           2002-06-21           7.0   \n1309        168610    8361     SO           2002-07-02           6.4   \n...            ...     ...    ...                  ...           ...   \n113640          47   13578     TI           2020-10-08        2550.0   \n114193          12   13179     TI           2020-10-19        2550.0   \n114922          45   13582     TI           2020-10-29        2550.0   \n116126          20   13171     TI           2020-11-16        2550.0   \n116685          28   13159     TI           2020-11-23        2550.0   \n\n        TotalPower      SubCategory PlantCategory         _x         _y   \n1151           7.0  Wind_Onshore_CH           NaN  2693622.0  1263996.0  \\\n1152           7.0  Wind_Onshore_CH           NaN  2693622.0  1263996.0   \n1287           6.4  Wind_Onshore_CH           NaN  2692041.0  1259079.0   \n1304           7.0  Wind_Onshore_CH           NaN  2700021.0  1265400.0   \n1309           6.4  Wind_Onshore_CH           NaN  2607190.0  1232287.0   \n...            ...              ...           ...        ...        ...   \n113640      2550.0  Wind_Onshore_CH           NaN  2685668.0  1157159.0   \n114193      2550.0  Wind_Onshore_CH           NaN  2686253.0  1157143.0   \n114922      2550.0  Wind_Onshore_CH           NaN  2685655.0  1157555.0   \n116126      2550.0  Wind_Onshore_CH           NaN  2686251.0  1156372.0   \n116685      2550.0  Wind_Onshore_CH           NaN  2685886.0  1156734.0   \n\n        CumulativePower  long    lat  \n1151                7.0  8.75  47.50  \n1152               14.0  8.75  47.50  \n1287               20.4  8.75  47.50  \n1304               27.4  8.75  47.50  \n1309               33.8  7.50  47.25  \n...                 ...   ...    ...  \n113640          78168.8  8.50  46.50  \n114193          80718.8  8.50  46.50  \n114922          83268.8  8.50  46.50  \n116126          85818.8  8.50  46.50  \n116685          88368.8  8.50  46.50  \n\n[68 rows x 13 columns]",
      "text/html": "<div>\n<style scoped>\n    .dataframe tbody tr th:only-of-type {\n        vertical-align: middle;\n    }\n\n    .dataframe tbody tr th {\n        vertical-align: top;\n    }\n\n    .dataframe thead th {\n        text-align: right;\n    }\n</style>\n<table border=\"1\" class=\"dataframe\">\n  <thead>\n    <tr style=\"text-align: right;\">\n      <th></th>\n      <th>Unnamed: 0</th>\n      <th>xtf_id</th>\n      <th>Canton</th>\n      <th>BeginningOfOperation</th>\n      <th>InitialPower</th>\n      <th>TotalPower</th>\n      <th>SubCategory</th>\n      <th>PlantCategory</th>\n      <th>_x</th>\n      <th>_y</th>\n      <th>CumulativePower</th>\n      <th>long</th>\n      <th>lat</th>\n    </tr>\n  </thead>\n  <tbody>\n    <tr>\n      <th>1151</th>\n      <td>168931</td>\n      <td>8801</td>\n      <td>ZH</td>\n      <td>2000-11-02</td>\n      <td>7.0</td>\n      <td>7.0</td>\n      <td>Wind_Onshore_CH</td>\n      <td>NaN</td>\n      <td>2693622.0</td>\n      <td>1263996.0</td>\n      <td>7.0</td>\n      <td>8.75</td>\n      <td>47.50</td>\n    </tr>\n    <tr>\n      <th>1152</th>\n      <td>168930</td>\n      <td>9477</td>\n      <td>ZH</td>\n      <td>2000-11-02</td>\n      <td>7.0</td>\n      <td>7.0</td>\n      <td>Wind_Onshore_CH</td>\n      <td>NaN</td>\n      <td>2693622.0</td>\n      <td>1263996.0</td>\n      <td>14.0</td>\n      <td>8.75</td>\n      <td>47.50</td>\n    </tr>\n    <tr>\n      <th>1287</th>\n      <td>169088</td>\n      <td>8898</td>\n      <td>ZH</td>\n      <td>2002-04-01</td>\n      <td>6.4</td>\n      <td>6.4</td>\n      <td>Wind_Onshore_CH</td>\n      <td>NaN</td>\n      <td>2692041.0</td>\n      <td>1259079.0</td>\n      <td>20.4</td>\n      <td>8.75</td>\n      <td>47.50</td>\n    </tr>\n    <tr>\n      <th>1304</th>\n      <td>168929</td>\n      <td>8772</td>\n      <td>ZH</td>\n      <td>2002-06-21</td>\n      <td>7.0</td>\n      <td>7.0</td>\n      <td>Wind_Onshore_CH</td>\n      <td>NaN</td>\n      <td>2700021.0</td>\n      <td>1265400.0</td>\n      <td>27.4</td>\n      <td>8.75</td>\n      <td>47.50</td>\n    </tr>\n    <tr>\n      <th>1309</th>\n      <td>168610</td>\n      <td>8361</td>\n      <td>SO</td>\n      <td>2002-07-02</td>\n      <td>6.4</td>\n      <td>6.4</td>\n      <td>Wind_Onshore_CH</td>\n      <td>NaN</td>\n      <td>2607190.0</td>\n      <td>1232287.0</td>\n      <td>33.8</td>\n      <td>7.50</td>\n      <td>47.25</td>\n    </tr>\n    <tr>\n      <th>...</th>\n      <td>...</td>\n      <td>...</td>\n      <td>...</td>\n      <td>...</td>\n      <td>...</td>\n      <td>...</td>\n      <td>...</td>\n      <td>...</td>\n      <td>...</td>\n      <td>...</td>\n      <td>...</td>\n      <td>...</td>\n      <td>...</td>\n    </tr>\n    <tr>\n      <th>113640</th>\n      <td>47</td>\n      <td>13578</td>\n      <td>TI</td>\n      <td>2020-10-08</td>\n      <td>2550.0</td>\n      <td>2550.0</td>\n      <td>Wind_Onshore_CH</td>\n      <td>NaN</td>\n      <td>2685668.0</td>\n      <td>1157159.0</td>\n      <td>78168.8</td>\n      <td>8.50</td>\n      <td>46.50</td>\n    </tr>\n    <tr>\n      <th>114193</th>\n      <td>12</td>\n      <td>13179</td>\n      <td>TI</td>\n      <td>2020-10-19</td>\n      <td>2550.0</td>\n      <td>2550.0</td>\n      <td>Wind_Onshore_CH</td>\n      <td>NaN</td>\n      <td>2686253.0</td>\n      <td>1157143.0</td>\n      <td>80718.8</td>\n      <td>8.50</td>\n      <td>46.50</td>\n    </tr>\n    <tr>\n      <th>114922</th>\n      <td>45</td>\n      <td>13582</td>\n      <td>TI</td>\n      <td>2020-10-29</td>\n      <td>2550.0</td>\n      <td>2550.0</td>\n      <td>Wind_Onshore_CH</td>\n      <td>NaN</td>\n      <td>2685655.0</td>\n      <td>1157555.0</td>\n      <td>83268.8</td>\n      <td>8.50</td>\n      <td>46.50</td>\n    </tr>\n    <tr>\n      <th>116126</th>\n      <td>20</td>\n      <td>13171</td>\n      <td>TI</td>\n      <td>2020-11-16</td>\n      <td>2550.0</td>\n      <td>2550.0</td>\n      <td>Wind_Onshore_CH</td>\n      <td>NaN</td>\n      <td>2686251.0</td>\n      <td>1156372.0</td>\n      <td>85818.8</td>\n      <td>8.50</td>\n      <td>46.50</td>\n    </tr>\n    <tr>\n      <th>116685</th>\n      <td>28</td>\n      <td>13159</td>\n      <td>TI</td>\n      <td>2020-11-23</td>\n      <td>2550.0</td>\n      <td>2550.0</td>\n      <td>Wind_Onshore_CH</td>\n      <td>NaN</td>\n      <td>2685886.0</td>\n      <td>1156734.0</td>\n      <td>88368.8</td>\n      <td>8.50</td>\n      <td>46.50</td>\n    </tr>\n  </tbody>\n</table>\n<p>68 rows × 13 columns</p>\n</div>"
     },
     "execution_count": 69,
     "metadata": {},
     "output_type": "execute_result"
    }
   ],
   "source": [
    "from math import isnan\n",
    "import numpy as np\n",
    "from pyproj import Transformer\n",
    "from scipy.spatial.distance import cdist\n",
    "\n",
    "transformer = Transformer.from_crs(\"EPSG:2056\", \"EPSG:4326\")  # MN95 -> WGS84\n",
    "\n",
    "grid = wd40[['longitude', 'latitude']].drop_duplicates()#gpt nul wind_factor.index.get_level_values(['longitude', 'latitude']).unique()\n",
    "del wd40\n",
    "\n",
    "def trouver_position_proche(row):\n",
    "    if isnan(row['_x']) or isnan(row['_y']):\n",
    "        return 0, 0\n",
    "    positions_grid = grid\n",
    "    # Convertir les coordonnées en degrés décimaux\n",
    "    lat, lon = transformer.transform(row['_x'], row['_y'])\n",
    "    centrale_position = np.array([lon, lat])\n",
    "    distances = cdist([centrale_position], positions_grid)\n",
    "    index_plus_proche = np.argmin(distances)\n",
    "    pos = positions_grid.iloc[index_plus_proche]\n",
    "    return pos['longitude'], pos['latitude']\n",
    "\n",
    "# Attribution des positions les plus proches aux centrales\n",
    "psl = wind_plants.apply(trouver_position_proche, axis=1)\n",
    "wind_plants['long'], wind_plants['lat'] = [p[0] for p in psl], [p[1] for p in psl]\n",
    "wind_plants"
   ]
  },
  {
   "cell_type": "code",
   "execution_count": 70,
   "metadata": {
    "ExecuteTime": {
     "end_time": "2023-05-17T08:25:42.684054100Z",
     "start_time": "2023-05-17T08:25:42.270227400Z"
    }
   },
   "outputs": [
    {
     "name": "stdout",
     "output_type": "stream",
     "text": [
      "68 vs 68\n",
      "create frame\n",
      "reducing...\n"
     ]
    },
    {
     "name": "stderr",
     "output_type": "stream",
     "text": [
      "C:\\Users\\aymeric.bourdy\\AppData\\Local\\Temp\\ipykernel_2252\\470641119.py:9: PerformanceWarning: indexing past lexsort depth may impact performance.\n",
      "  wind_factor_reduced[str(pos)] = wind_factor.loc[pos[0], pos[1]]\n",
      "C:\\Users\\aymeric.bourdy\\AppData\\Local\\Temp\\ipykernel_2252\\470641119.py:9: PerformanceWarning: indexing past lexsort depth may impact performance.\n",
      "  wind_factor_reduced[str(pos)] = wind_factor.loc[pos[0], pos[1]]\n",
      "C:\\Users\\aymeric.bourdy\\AppData\\Local\\Temp\\ipykernel_2252\\470641119.py:9: PerformanceWarning: indexing past lexsort depth may impact performance.\n",
      "  wind_factor_reduced[str(pos)] = wind_factor.loc[pos[0], pos[1]]\n",
      "C:\\Users\\aymeric.bourdy\\AppData\\Local\\Temp\\ipykernel_2252\\470641119.py:9: PerformanceWarning: indexing past lexsort depth may impact performance.\n",
      "  wind_factor_reduced[str(pos)] = wind_factor.loc[pos[0], pos[1]]\n",
      "C:\\Users\\aymeric.bourdy\\AppData\\Local\\Temp\\ipykernel_2252\\470641119.py:9: PerformanceWarning: indexing past lexsort depth may impact performance.\n",
      "  wind_factor_reduced[str(pos)] = wind_factor.loc[pos[0], pos[1]]\n",
      "C:\\Users\\aymeric.bourdy\\AppData\\Local\\Temp\\ipykernel_2252\\470641119.py:9: PerformanceWarning: indexing past lexsort depth may impact performance.\n",
      "  wind_factor_reduced[str(pos)] = wind_factor.loc[pos[0], pos[1]]\n",
      "C:\\Users\\aymeric.bourdy\\AppData\\Local\\Temp\\ipykernel_2252\\470641119.py:9: PerformanceWarning: indexing past lexsort depth may impact performance.\n",
      "  wind_factor_reduced[str(pos)] = wind_factor.loc[pos[0], pos[1]]\n",
      "C:\\Users\\aymeric.bourdy\\AppData\\Local\\Temp\\ipykernel_2252\\470641119.py:9: PerformanceWarning: indexing past lexsort depth may impact performance.\n",
      "  wind_factor_reduced[str(pos)] = wind_factor.loc[pos[0], pos[1]]\n",
      "C:\\Users\\aymeric.bourdy\\AppData\\Local\\Temp\\ipykernel_2252\\470641119.py:9: PerformanceWarning: indexing past lexsort depth may impact performance.\n",
      "  wind_factor_reduced[str(pos)] = wind_factor.loc[pos[0], pos[1]]\n",
      "C:\\Users\\aymeric.bourdy\\AppData\\Local\\Temp\\ipykernel_2252\\470641119.py:9: PerformanceWarning: indexing past lexsort depth may impact performance.\n",
      "  wind_factor_reduced[str(pos)] = wind_factor.loc[pos[0], pos[1]]\n",
      "C:\\Users\\aymeric.bourdy\\AppData\\Local\\Temp\\ipykernel_2252\\470641119.py:9: PerformanceWarning: indexing past lexsort depth may impact performance.\n",
      "  wind_factor_reduced[str(pos)] = wind_factor.loc[pos[0], pos[1]]\n",
      "C:\\Users\\aymeric.bourdy\\AppData\\Local\\Temp\\ipykernel_2252\\470641119.py:9: PerformanceWarning: indexing past lexsort depth may impact performance.\n",
      "  wind_factor_reduced[str(pos)] = wind_factor.loc[pos[0], pos[1]]\n",
      "C:\\Users\\aymeric.bourdy\\AppData\\Local\\Temp\\ipykernel_2252\\470641119.py:9: PerformanceWarning: indexing past lexsort depth may impact performance.\n",
      "  wind_factor_reduced[str(pos)] = wind_factor.loc[pos[0], pos[1]]\n",
      "C:\\Users\\aymeric.bourdy\\AppData\\Local\\Temp\\ipykernel_2252\\470641119.py:9: PerformanceWarning: indexing past lexsort depth may impact performance.\n",
      "  wind_factor_reduced[str(pos)] = wind_factor.loc[pos[0], pos[1]]\n",
      "C:\\Users\\aymeric.bourdy\\AppData\\Local\\Temp\\ipykernel_2252\\470641119.py:9: PerformanceWarning: indexing past lexsort depth may impact performance.\n",
      "  wind_factor_reduced[str(pos)] = wind_factor.loc[pos[0], pos[1]]\n",
      "C:\\Users\\aymeric.bourdy\\AppData\\Local\\Temp\\ipykernel_2252\\470641119.py:9: PerformanceWarning: indexing past lexsort depth may impact performance.\n",
      "  wind_factor_reduced[str(pos)] = wind_factor.loc[pos[0], pos[1]]\n",
      "C:\\Users\\aymeric.bourdy\\AppData\\Local\\Temp\\ipykernel_2252\\470641119.py:9: PerformanceWarning: indexing past lexsort depth may impact performance.\n",
      "  wind_factor_reduced[str(pos)] = wind_factor.loc[pos[0], pos[1]]\n",
      "C:\\Users\\aymeric.bourdy\\AppData\\Local\\Temp\\ipykernel_2252\\470641119.py:9: PerformanceWarning: indexing past lexsort depth may impact performance.\n",
      "  wind_factor_reduced[str(pos)] = wind_factor.loc[pos[0], pos[1]]\n",
      "C:\\Users\\aymeric.bourdy\\AppData\\Local\\Temp\\ipykernel_2252\\470641119.py:9: PerformanceWarning: indexing past lexsort depth may impact performance.\n",
      "  wind_factor_reduced[str(pos)] = wind_factor.loc[pos[0], pos[1]]\n",
      "C:\\Users\\aymeric.bourdy\\AppData\\Local\\Temp\\ipykernel_2252\\470641119.py:9: PerformanceWarning: indexing past lexsort depth may impact performance.\n",
      "  wind_factor_reduced[str(pos)] = wind_factor.loc[pos[0], pos[1]]\n",
      "C:\\Users\\aymeric.bourdy\\AppData\\Local\\Temp\\ipykernel_2252\\470641119.py:9: PerformanceWarning: indexing past lexsort depth may impact performance.\n",
      "  wind_factor_reduced[str(pos)] = wind_factor.loc[pos[0], pos[1]]\n",
      "C:\\Users\\aymeric.bourdy\\AppData\\Local\\Temp\\ipykernel_2252\\470641119.py:9: PerformanceWarning: indexing past lexsort depth may impact performance.\n",
      "  wind_factor_reduced[str(pos)] = wind_factor.loc[pos[0], pos[1]]\n",
      "C:\\Users\\aymeric.bourdy\\AppData\\Local\\Temp\\ipykernel_2252\\470641119.py:9: PerformanceWarning: indexing past lexsort depth may impact performance.\n",
      "  wind_factor_reduced[str(pos)] = wind_factor.loc[pos[0], pos[1]]\n",
      "C:\\Users\\aymeric.bourdy\\AppData\\Local\\Temp\\ipykernel_2252\\470641119.py:9: PerformanceWarning: indexing past lexsort depth may impact performance.\n",
      "  wind_factor_reduced[str(pos)] = wind_factor.loc[pos[0], pos[1]]\n"
     ]
    }
   ],
   "source": [
    "unique_pos = [(x, y) for x, y in zip(wind_plants['long'], wind_plants['lat'])]\n",
    "print(len(unique_pos), 'vs', len(wind_plants))\n",
    "unique_pos = list(set(unique_pos))\n",
    "print('create frame')\n",
    "wind_factor_reduced = pd.DataFrame(index=wind_factor.index.levels[2])\n",
    "print('reducing...')\n",
    "for pos in unique_pos:\n",
    "    #print(pos, 'is', wind_factor.loc[pos[0], pos[1]], '//', wind_factor_reduced[pos])\n",
    "    wind_factor_reduced[str(pos)] = wind_factor.loc[pos[0], pos[1]]\n",
    "#wind_factor_reduced"
   ]
  },
  {
   "cell_type": "code",
   "execution_count": 71,
   "metadata": {
    "ExecuteTime": {
     "end_time": "2023-05-17T08:25:42.736827300Z",
     "start_time": "2023-05-17T08:25:42.608105800Z"
    }
   },
   "outputs": [
    {
     "name": "stdout",
     "output_type": "stream",
     "text": [
      "step 1\n",
      "step 2\n"
     ]
    }
   ],
   "source": [
    "start = '2021-01-01'\n",
    "end = '2021-01-31'\n",
    "freq = 'D'\n",
    "print('step 1')\n",
    "\n",
    "# Générer un DataFrame avec l'index des dates\n",
    "dates = pd.date_range(start=start, end=end, freq=freq)\n",
    "by_date = pd.DataFrame(index=dates)\n",
    "print('step 2')\n",
    "\n",
    "# Calculer la puissance cumulée pour chaque région\n",
    "regions = unique_pos\n",
    "szh = len(regions)\n",
    "i = 0\n",
    "for region in regions:\n",
    "    # Filtrer les installations pour la région donnée\n",
    "    #print('Region is ', region, ' ', i,'/',szh)\n",
    "    df_region = wind_plants[(wind_plants['long'] == region[0]) & (wind_plants['lat'] == region[1])]\n",
    "    if len(df_region) == 0:\n",
    "        continue\n",
    "    #print('ERROR df reg is ', df_region, ' for ', region)\n",
    "\n",
    "    # Regrouper par date de début d'opération et calculer la somme de la puissance\n",
    "    df_grouped = df_region.groupby('BeginningOfOperation')['TotalPower'].sum()\n",
    "    df_grouped.index = pd.to_datetime(df_grouped.index)\n",
    "\n",
    "    # Puissance installée au début de l'année\n",
    "    base_value = df_grouped.loc[:start].sum()\n",
    "    # Réindexer pour inclure toutes les dates entre d1 et d2\n",
    "    df_grouped = df_grouped.reindex(dates, fill_value=0)\n",
    "    df_grouped.loc[start] = base_value\n",
    "    #print('Power in ', region,' is ', df_grouped.cumsum())\n",
    "\n",
    "    # Ajouter la colonne de puissance cumulée de la région au DataFrame de sortie\n",
    "    by_date[str(region)] = df_grouped.cumsum()\n",
    "    i = i + 1\n",
    "by_date = by_date / 1000  # Convertir en MWc"
   ]
  },
  {
   "cell_type": "code",
   "execution_count": 72,
   "metadata": {
    "ExecuteTime": {
     "end_time": "2023-05-17T08:25:43.186223Z",
     "start_time": "2023-05-17T08:25:43.145944900Z"
    }
   },
   "outputs": [
    {
     "data": {
      "text/plain": "88.3688"
     },
     "execution_count": 72,
     "metadata": {},
     "output_type": "execute_result"
    }
   ],
   "source": [
    "by_date.iloc[-1].sum()"
   ]
  },
  {
   "cell_type": "code",
   "execution_count": 50,
   "outputs": [
    {
     "data": {
      "text/plain": "                     (7.75, 47.0)  (7.75, 47.25)  (7.0, 47.25)  (7.0, 47.0)   \ntime                                                                          \n2021-09-01 00:00:00      0.125993       0.292122      0.385607     0.351302  \\\n2021-09-01 01:00:00      0.072731       0.247982      0.314993     0.245490   \n2021-09-01 02:00:00      0.068925       0.252334      0.274603     0.185407   \n2021-09-01 03:00:00      0.059723       0.204047      0.252966     0.202922   \n2021-09-01 04:00:00      0.055281       0.188521      0.238831     0.188401   \n...                           ...            ...           ...          ...   \n2021-09-30 19:00:00      0.000615       0.004671      0.019195     0.002993   \n2021-09-30 20:00:00      0.000000       0.000000      0.004115     0.000110   \n2021-09-30 21:00:00      0.000004       0.000000      0.002341     0.000000   \n2021-09-30 22:00:00      0.000000       0.000000      0.006982     0.006070   \n2021-09-30 23:00:00      0.000010       0.000004      0.006885     0.001646   \n\n                     (8.25, 46.5)  (9.0, 47.25)  (8.5, 47.75)  (7.25, 47.25)   \ntime                                                                           \n2021-09-01 00:00:00      0.000000      0.006664      0.242614       0.291876  \\\n2021-09-01 01:00:00      0.000000      0.005261      0.294087       0.231345   \n2021-09-01 02:00:00      0.000010      0.005069      0.281767       0.216377   \n2021-09-01 03:00:00      0.000000      0.006845      0.223282       0.188085   \n2021-09-01 04:00:00      0.000001      0.018160      0.216337       0.173820   \n...                           ...           ...           ...            ...   \n2021-09-30 19:00:00      0.000000      0.000000      0.000000       0.016865   \n2021-09-30 20:00:00      0.000000      0.000000      0.000001       0.001264   \n2021-09-30 21:00:00      0.000000      0.000008      0.000004       0.000000   \n2021-09-30 22:00:00      0.000000      0.007953      0.000010       0.000000   \n2021-09-30 23:00:00      0.000000      0.000000      0.000000       0.000000   \n\n                     (7.75, 46.75)  (7.0, 46.25)  ...  (8.75, 47.75)   \ntime                                              ...                  \n2021-09-01 00:00:00       0.002355      0.000000  ...       0.225592  \\\n2021-09-01 01:00:00       0.000359      0.000000  ...       0.269229   \n2021-09-01 02:00:00       0.000000      0.000000  ...       0.236066   \n2021-09-01 03:00:00       0.000000      0.000000  ...       0.184609   \n2021-09-01 04:00:00       0.000000      0.000000  ...       0.170289   \n...                            ...           ...  ...            ...   \n2021-09-30 19:00:00       0.000005      0.000000  ...       0.000000   \n2021-09-30 20:00:00       0.000000      0.000000  ...       0.000000   \n2021-09-30 21:00:00       0.000120      0.000000  ...       0.000000   \n2021-09-30 22:00:00       0.038775      0.021954  ...       0.000009   \n2021-09-30 23:00:00       0.015157      0.008820  ...       0.000000   \n\n                     (8.0, 47.25)  (8.0, 47.0)  (8.5, 46.75)  (8.5, 46.5)   \ntime                                                                        \n2021-09-01 00:00:00      0.241336     0.067290      0.000000     0.000700  \\\n2021-09-01 01:00:00      0.199965     0.022814      0.000000     0.000000   \n2021-09-01 02:00:00      0.213214     0.025814      0.000000     0.000000   \n2021-09-01 03:00:00      0.146838     0.011320      0.000000     0.000047   \n2021-09-01 04:00:00      0.127735     0.008250      0.000000     0.000000   \n...                           ...          ...           ...          ...   \n2021-09-30 19:00:00      0.000504     0.000000      0.000000     0.000000   \n2021-09-30 20:00:00      0.000000     0.000000      0.000468     0.000000   \n2021-09-30 21:00:00      0.000001     0.000009      0.002404     0.000348   \n2021-09-30 22:00:00      0.000002     0.000000      0.029878     0.000000   \n2021-09-30 23:00:00      0.000009     0.000006      0.020790     0.000000   \n\n                     (7.25, 46.25)  (7.5, 47.25)  (9.5, 47.0)  (9.5, 47.5)   \ntime                                                                         \n2021-09-01 00:00:00       0.000000      0.275738     0.000000     0.002991  \\\n2021-09-01 01:00:00       0.000000      0.226680     0.000000     0.012015   \n2021-09-01 02:00:00       0.000000      0.224012     0.000000     0.004913   \n2021-09-01 03:00:00       0.000000      0.192334     0.000000     0.000250   \n2021-09-01 04:00:00       0.000000      0.181425     0.000118     0.000000   \n...                            ...           ...          ...          ...   \n2021-09-30 19:00:00       0.000010      0.012370     0.000000     0.000009   \n2021-09-30 20:00:00       0.000005      0.000179     0.000000     0.000010   \n2021-09-30 21:00:00       0.000000      0.000000     0.000000     0.000000   \n2021-09-30 22:00:00       0.009603      0.000000     0.026713     0.000000   \n2021-09-30 23:00:00       0.005140      0.000003     0.010124     0.000000   \n\n                     (8.25, 47.25)  \ntime                                \n2021-09-01 00:00:00       0.107618  \n2021-09-01 01:00:00       0.086170  \n2021-09-01 02:00:00       0.088444  \n2021-09-01 03:00:00       0.041873  \n2021-09-01 04:00:00       0.029351  \n...                            ...  \n2021-09-30 19:00:00       0.000000  \n2021-09-30 20:00:00       0.000010  \n2021-09-30 21:00:00       0.000010  \n2021-09-30 22:00:00       0.000000  \n2021-09-30 23:00:00       0.000009  \n\n[720 rows x 24 columns]",
      "text/html": "<div>\n<style scoped>\n    .dataframe tbody tr th:only-of-type {\n        vertical-align: middle;\n    }\n\n    .dataframe tbody tr th {\n        vertical-align: top;\n    }\n\n    .dataframe thead th {\n        text-align: right;\n    }\n</style>\n<table border=\"1\" class=\"dataframe\">\n  <thead>\n    <tr style=\"text-align: right;\">\n      <th></th>\n      <th>(7.75, 47.0)</th>\n      <th>(7.75, 47.25)</th>\n      <th>(7.0, 47.25)</th>\n      <th>(7.0, 47.0)</th>\n      <th>(8.25, 46.5)</th>\n      <th>(9.0, 47.25)</th>\n      <th>(8.5, 47.75)</th>\n      <th>(7.25, 47.25)</th>\n      <th>(7.75, 46.75)</th>\n      <th>(7.0, 46.25)</th>\n      <th>...</th>\n      <th>(8.75, 47.75)</th>\n      <th>(8.0, 47.25)</th>\n      <th>(8.0, 47.0)</th>\n      <th>(8.5, 46.75)</th>\n      <th>(8.5, 46.5)</th>\n      <th>(7.25, 46.25)</th>\n      <th>(7.5, 47.25)</th>\n      <th>(9.5, 47.0)</th>\n      <th>(9.5, 47.5)</th>\n      <th>(8.25, 47.25)</th>\n    </tr>\n    <tr>\n      <th>time</th>\n      <th></th>\n      <th></th>\n      <th></th>\n      <th></th>\n      <th></th>\n      <th></th>\n      <th></th>\n      <th></th>\n      <th></th>\n      <th></th>\n      <th></th>\n      <th></th>\n      <th></th>\n      <th></th>\n      <th></th>\n      <th></th>\n      <th></th>\n      <th></th>\n      <th></th>\n      <th></th>\n      <th></th>\n    </tr>\n  </thead>\n  <tbody>\n    <tr>\n      <th>2021-09-01 00:00:00</th>\n      <td>0.125993</td>\n      <td>0.292122</td>\n      <td>0.385607</td>\n      <td>0.351302</td>\n      <td>0.000000</td>\n      <td>0.006664</td>\n      <td>0.242614</td>\n      <td>0.291876</td>\n      <td>0.002355</td>\n      <td>0.000000</td>\n      <td>...</td>\n      <td>0.225592</td>\n      <td>0.241336</td>\n      <td>0.067290</td>\n      <td>0.000000</td>\n      <td>0.000700</td>\n      <td>0.000000</td>\n      <td>0.275738</td>\n      <td>0.000000</td>\n      <td>0.002991</td>\n      <td>0.107618</td>\n    </tr>\n    <tr>\n      <th>2021-09-01 01:00:00</th>\n      <td>0.072731</td>\n      <td>0.247982</td>\n      <td>0.314993</td>\n      <td>0.245490</td>\n      <td>0.000000</td>\n      <td>0.005261</td>\n      <td>0.294087</td>\n      <td>0.231345</td>\n      <td>0.000359</td>\n      <td>0.000000</td>\n      <td>...</td>\n      <td>0.269229</td>\n      <td>0.199965</td>\n      <td>0.022814</td>\n      <td>0.000000</td>\n      <td>0.000000</td>\n      <td>0.000000</td>\n      <td>0.226680</td>\n      <td>0.000000</td>\n      <td>0.012015</td>\n      <td>0.086170</td>\n    </tr>\n    <tr>\n      <th>2021-09-01 02:00:00</th>\n      <td>0.068925</td>\n      <td>0.252334</td>\n      <td>0.274603</td>\n      <td>0.185407</td>\n      <td>0.000010</td>\n      <td>0.005069</td>\n      <td>0.281767</td>\n      <td>0.216377</td>\n      <td>0.000000</td>\n      <td>0.000000</td>\n      <td>...</td>\n      <td>0.236066</td>\n      <td>0.213214</td>\n      <td>0.025814</td>\n      <td>0.000000</td>\n      <td>0.000000</td>\n      <td>0.000000</td>\n      <td>0.224012</td>\n      <td>0.000000</td>\n      <td>0.004913</td>\n      <td>0.088444</td>\n    </tr>\n    <tr>\n      <th>2021-09-01 03:00:00</th>\n      <td>0.059723</td>\n      <td>0.204047</td>\n      <td>0.252966</td>\n      <td>0.202922</td>\n      <td>0.000000</td>\n      <td>0.006845</td>\n      <td>0.223282</td>\n      <td>0.188085</td>\n      <td>0.000000</td>\n      <td>0.000000</td>\n      <td>...</td>\n      <td>0.184609</td>\n      <td>0.146838</td>\n      <td>0.011320</td>\n      <td>0.000000</td>\n      <td>0.000047</td>\n      <td>0.000000</td>\n      <td>0.192334</td>\n      <td>0.000000</td>\n      <td>0.000250</td>\n      <td>0.041873</td>\n    </tr>\n    <tr>\n      <th>2021-09-01 04:00:00</th>\n      <td>0.055281</td>\n      <td>0.188521</td>\n      <td>0.238831</td>\n      <td>0.188401</td>\n      <td>0.000001</td>\n      <td>0.018160</td>\n      <td>0.216337</td>\n      <td>0.173820</td>\n      <td>0.000000</td>\n      <td>0.000000</td>\n      <td>...</td>\n      <td>0.170289</td>\n      <td>0.127735</td>\n      <td>0.008250</td>\n      <td>0.000000</td>\n      <td>0.000000</td>\n      <td>0.000000</td>\n      <td>0.181425</td>\n      <td>0.000118</td>\n      <td>0.000000</td>\n      <td>0.029351</td>\n    </tr>\n    <tr>\n      <th>...</th>\n      <td>...</td>\n      <td>...</td>\n      <td>...</td>\n      <td>...</td>\n      <td>...</td>\n      <td>...</td>\n      <td>...</td>\n      <td>...</td>\n      <td>...</td>\n      <td>...</td>\n      <td>...</td>\n      <td>...</td>\n      <td>...</td>\n      <td>...</td>\n      <td>...</td>\n      <td>...</td>\n      <td>...</td>\n      <td>...</td>\n      <td>...</td>\n      <td>...</td>\n      <td>...</td>\n    </tr>\n    <tr>\n      <th>2021-09-30 19:00:00</th>\n      <td>0.000615</td>\n      <td>0.004671</td>\n      <td>0.019195</td>\n      <td>0.002993</td>\n      <td>0.000000</td>\n      <td>0.000000</td>\n      <td>0.000000</td>\n      <td>0.016865</td>\n      <td>0.000005</td>\n      <td>0.000000</td>\n      <td>...</td>\n      <td>0.000000</td>\n      <td>0.000504</td>\n      <td>0.000000</td>\n      <td>0.000000</td>\n      <td>0.000000</td>\n      <td>0.000010</td>\n      <td>0.012370</td>\n      <td>0.000000</td>\n      <td>0.000009</td>\n      <td>0.000000</td>\n    </tr>\n    <tr>\n      <th>2021-09-30 20:00:00</th>\n      <td>0.000000</td>\n      <td>0.000000</td>\n      <td>0.004115</td>\n      <td>0.000110</td>\n      <td>0.000000</td>\n      <td>0.000000</td>\n      <td>0.000001</td>\n      <td>0.001264</td>\n      <td>0.000000</td>\n      <td>0.000000</td>\n      <td>...</td>\n      <td>0.000000</td>\n      <td>0.000000</td>\n      <td>0.000000</td>\n      <td>0.000468</td>\n      <td>0.000000</td>\n      <td>0.000005</td>\n      <td>0.000179</td>\n      <td>0.000000</td>\n      <td>0.000010</td>\n      <td>0.000010</td>\n    </tr>\n    <tr>\n      <th>2021-09-30 21:00:00</th>\n      <td>0.000004</td>\n      <td>0.000000</td>\n      <td>0.002341</td>\n      <td>0.000000</td>\n      <td>0.000000</td>\n      <td>0.000008</td>\n      <td>0.000004</td>\n      <td>0.000000</td>\n      <td>0.000120</td>\n      <td>0.000000</td>\n      <td>...</td>\n      <td>0.000000</td>\n      <td>0.000001</td>\n      <td>0.000009</td>\n      <td>0.002404</td>\n      <td>0.000348</td>\n      <td>0.000000</td>\n      <td>0.000000</td>\n      <td>0.000000</td>\n      <td>0.000000</td>\n      <td>0.000010</td>\n    </tr>\n    <tr>\n      <th>2021-09-30 22:00:00</th>\n      <td>0.000000</td>\n      <td>0.000000</td>\n      <td>0.006982</td>\n      <td>0.006070</td>\n      <td>0.000000</td>\n      <td>0.007953</td>\n      <td>0.000010</td>\n      <td>0.000000</td>\n      <td>0.038775</td>\n      <td>0.021954</td>\n      <td>...</td>\n      <td>0.000009</td>\n      <td>0.000002</td>\n      <td>0.000000</td>\n      <td>0.029878</td>\n      <td>0.000000</td>\n      <td>0.009603</td>\n      <td>0.000000</td>\n      <td>0.026713</td>\n      <td>0.000000</td>\n      <td>0.000000</td>\n    </tr>\n    <tr>\n      <th>2021-09-30 23:00:00</th>\n      <td>0.000010</td>\n      <td>0.000004</td>\n      <td>0.006885</td>\n      <td>0.001646</td>\n      <td>0.000000</td>\n      <td>0.000000</td>\n      <td>0.000000</td>\n      <td>0.000000</td>\n      <td>0.015157</td>\n      <td>0.008820</td>\n      <td>...</td>\n      <td>0.000000</td>\n      <td>0.000009</td>\n      <td>0.000006</td>\n      <td>0.020790</td>\n      <td>0.000000</td>\n      <td>0.005140</td>\n      <td>0.000003</td>\n      <td>0.010124</td>\n      <td>0.000000</td>\n      <td>0.000009</td>\n    </tr>\n  </tbody>\n</table>\n<p>720 rows × 24 columns</p>\n</div>"
     },
     "execution_count": 50,
     "metadata": {},
     "output_type": "execute_result"
    }
   ],
   "source": [
    "wind_factor_reduced"
   ],
   "metadata": {
    "collapsed": false,
    "ExecuteTime": {
     "end_time": "2023-05-17T08:24:13.569103800Z",
     "start_time": "2023-05-17T08:24:13.494140200Z"
    }
   }
  },
  {
   "cell_type": "code",
   "execution_count": 51,
   "metadata": {
    "ExecuteTime": {
     "end_time": "2023-05-17T08:24:16.114841200Z",
     "start_time": "2023-05-17T08:24:16.040582100Z"
    }
   },
   "outputs": [],
   "source": [
    "# Day by day\n",
    "solar_factor_resampled = wind_factor_reduced.resample(freq).mean().loc[start:end]\n",
    "n_hours_freq = 24 if freq == 'D' else 1\n",
    "produced_year = solar_factor_resampled.multiply(by_date).sum(axis=1) * n_hours_freq\n",
    "produced_year = produced_year / 1000  # Convertir en GWh"
   ]
  },
  {
   "cell_type": "code",
   "execution_count": 73,
   "outputs": [],
   "source": [
    "#hour by hour\n",
    "by_date_rs = by_date.resample('H').first().loc[start:end]\n",
    "by_date_rs = by_date_rs.interpolate(method='pad', limit_direction='forward')\n",
    "rd = wind_factor_reduced.loc[start:end]\n",
    "produced_year = rd.multiply(by_date_rs).sum(axis=1)\n",
    "produced_year = produced_year / 1000  # Convertir en GWh"
   ],
   "metadata": {
    "collapsed": false,
    "ExecuteTime": {
     "end_time": "2023-05-17T08:25:45.699153300Z",
     "start_time": "2023-05-17T08:25:45.673062400Z"
    }
   }
  },
  {
   "cell_type": "markdown",
   "source": [
    "# Janvier"
   ],
   "metadata": {
    "collapsed": false
   }
  },
  {
   "cell_type": "code",
   "execution_count": 74,
   "outputs": [
    {
     "data": {
      "text/plain": "10.194308785475481"
     },
     "execution_count": 74,
     "metadata": {},
     "output_type": "execute_result"
    }
   ],
   "source": [
    "produced_year.sum()"
   ],
   "metadata": {
    "collapsed": false,
    "ExecuteTime": {
     "end_time": "2023-05-17T08:25:46.401631700Z",
     "start_time": "2023-05-17T08:25:46.382952900Z"
    }
   }
  },
  {
   "cell_type": "markdown",
   "source": [
    "# Juin"
   ],
   "metadata": {
    "collapsed": false
   }
  },
  {
   "cell_type": "code",
   "execution_count": 41,
   "outputs": [
    {
     "data": {
      "text/plain": "1.2631451358042447"
     },
     "execution_count": 41,
     "metadata": {},
     "output_type": "execute_result"
    }
   ],
   "source": [
    "produced_year.sum()"
   ],
   "metadata": {
    "collapsed": false,
    "ExecuteTime": {
     "end_time": "2023-05-17T08:22:30.345865900Z",
     "start_time": "2023-05-17T08:22:30.338634800Z"
    }
   }
  },
  {
   "cell_type": "markdown",
   "source": [
    "# Septembre"
   ],
   "metadata": {
    "collapsed": false
   }
  },
  {
   "cell_type": "code",
   "execution_count": 54,
   "outputs": [
    {
     "data": {
      "text/plain": "1.6957400323341778"
     },
     "execution_count": 54,
     "metadata": {},
     "output_type": "execute_result"
    }
   ],
   "source": [
    "produced_year.sum()"
   ],
   "metadata": {
    "collapsed": false,
    "ExecuteTime": {
     "end_time": "2023-05-17T08:24:26.730992700Z",
     "start_time": "2023-05-17T08:24:26.684844700Z"
    }
   }
  },
  {
   "cell_type": "markdown",
   "source": [
    "# Octobre"
   ],
   "metadata": {
    "collapsed": false
   }
  },
  {
   "cell_type": "code",
   "execution_count": 65,
   "outputs": [
    {
     "data": {
      "text/plain": "4.940536067843557"
     },
     "execution_count": 65,
     "metadata": {},
     "output_type": "execute_result"
    }
   ],
   "source": [
    "produced_year.sum()"
   ],
   "metadata": {
    "collapsed": false,
    "ExecuteTime": {
     "end_time": "2023-05-17T08:25:13.091498100Z",
     "start_time": "2023-05-17T08:25:13.081709300Z"
    }
   }
  },
  {
   "cell_type": "code",
   "execution_count": null,
   "outputs": [],
   "source": [],
   "metadata": {
    "collapsed": false
   }
  },
  {
   "cell_type": "code",
   "execution_count": null,
   "metadata": {},
   "outputs": [],
   "source": [
    "from math import isnan\n",
    "from shapely import Point\n",
    "import geopandas as gpd\n",
    "from pyproj import Transformer\n",
    "\n",
    "# Définir la projection\n",
    "transformer = Transformer.from_crs(\"EPSG:2056\", \"EPSG:4326\")  # MN95 -> WGS84\n",
    "\n",
    "# Créer une colonne vide pour stocker la case la plus proche\n",
    "wind_plants['longitude'] = 0  # Valeur par défaut pour les installations sans coordonnées\n",
    "wind_plants['latitude'] = 0  # Valeur par défaut pour les installations sans coordonnées\n",
    "\n",
    "# Boucler sur chaque paire de coordonnées MN95\n",
    "for i in wind_plants.index:\n",
    "    if isnan(wind_plants.loc[i, '_x']) or isnan(wind_plants.loc[i, '_y']):\n",
    "        continue\n",
    "    # Convertir les coordonnées en degrés décimaux\n",
    "    lat, lon = transformer.transform(wind_plants.loc[i, '_x'], wind_plants.loc[i, '_y'])\n",
    "\n",
    "\n",
    "# Afficher la liste de coordonnées classées par région\n",
    "print(wind_plants.groupby('region').size())"
   ]
  },
  {
   "cell_type": "markdown",
   "metadata": {},
   "source": [
    "### 3. Calcul de la production éolienne suisse\n",
    "\n",
    "#### 2021"
   ]
  },
  {
   "cell_type": "code",
   "execution_count": 81,
   "metadata": {
    "ExecuteTime": {
     "end_time": "2023-05-16T14:27:38.229287600Z",
     "start_time": "2023-05-16T14:27:38.222784200Z"
    }
   },
   "outputs": [],
   "source": [
    "start = '2021-01-01'\n",
    "end = '2021-12-31'\n",
    "freq = 'D'"
   ]
  },
  {
   "cell_type": "code",
   "execution_count": 82,
   "metadata": {
    "ExecuteTime": {
     "end_time": "2023-05-16T14:27:39.908981800Z",
     "start_time": "2023-05-16T14:27:38.594043700Z"
    }
   },
   "outputs": [
    {
     "name": "stdout",
     "output_type": "stream",
     "text": [
      "Power in  CH04  is  2021-01-01    60.7\n",
      "2021-01-02    60.7\n",
      "2021-01-03    60.7\n",
      "2021-01-04    60.7\n",
      "2021-01-05    60.7\n",
      "              ... \n",
      "2021-12-27    60.7\n",
      "2021-12-28    60.7\n",
      "2021-12-29    60.7\n",
      "2021-12-30    60.7\n",
      "2021-12-31    60.7\n",
      "Freq: D, Name: TotalPower, Length: 365, dtype: float64\n",
      "Power in  CH02  is  2021-01-01    48179.7\n",
      "2021-01-02    48179.7\n",
      "2021-01-03    48179.7\n",
      "2021-01-04    48179.7\n",
      "2021-01-05    48179.7\n",
      "               ...   \n",
      "2021-12-27    48179.7\n",
      "2021-12-28    48179.7\n",
      "2021-12-29    48179.7\n",
      "2021-12-30    48179.7\n",
      "2021-12-31    48179.7\n",
      "Freq: D, Name: TotalPower, Length: 365, dtype: float64\n",
      "Power in  CH05  is  2021-01-01    3476.4\n",
      "2021-01-02    3476.4\n",
      "2021-01-03    3476.4\n",
      "2021-01-04    3476.4\n",
      "2021-01-05    3476.4\n",
      "               ...  \n",
      "2021-12-27    3476.4\n",
      "2021-12-28    3476.4\n",
      "2021-12-29    3476.4\n",
      "2021-12-30    3476.4\n",
      "2021-12-31    3476.4\n",
      "Freq: D, Name: TotalPower, Length: 365, dtype: float64\n",
      "Power in  CH06  is  2021-01-01    7542.0\n",
      "2021-01-02    7542.0\n",
      "2021-01-03    7542.0\n",
      "2021-01-04    7542.0\n",
      "2021-01-05    7542.0\n",
      "               ...  \n",
      "2021-12-27    7542.0\n",
      "2021-12-28    7542.0\n",
      "2021-12-29    7542.0\n",
      "2021-12-30    7542.0\n",
      "2021-12-31    7542.0\n",
      "Freq: D, Name: TotalPower, Length: 365, dtype: float64\n",
      "Power in  CH01  is  2021-01-01    16350.0\n",
      "2021-01-02    16350.0\n",
      "2021-01-03    16350.0\n",
      "2021-01-04    16350.0\n",
      "2021-01-05    16350.0\n",
      "               ...   \n",
      "2021-12-27    16350.0\n",
      "2021-12-28    16350.0\n",
      "2021-12-29    16350.0\n",
      "2021-12-30    16350.0\n",
      "2021-12-31    16350.0\n",
      "Freq: D, Name: TotalPower, Length: 365, dtype: float64\n",
      "Power in  CH03  is  2021-01-01    10.0\n",
      "2021-01-02    10.0\n",
      "2021-01-03    10.0\n",
      "2021-01-04    10.0\n",
      "2021-01-05    10.0\n",
      "              ... \n",
      "2021-12-27    10.0\n",
      "2021-12-28    10.0\n",
      "2021-12-29    10.0\n",
      "2021-12-30    10.0\n",
      "2021-12-31    10.0\n",
      "Freq: D, Name: TotalPower, Length: 365, dtype: float64\n",
      "Power in  CH07  is  2021-01-01    12750.0\n",
      "2021-01-02    12750.0\n",
      "2021-01-03    12750.0\n",
      "2021-01-04    12750.0\n",
      "2021-01-05    12750.0\n",
      "               ...   \n",
      "2021-12-27    12750.0\n",
      "2021-12-28    12750.0\n",
      "2021-12-29    12750.0\n",
      "2021-12-30    12750.0\n",
      "2021-12-31    12750.0\n",
      "Freq: D, Name: TotalPower, Length: 365, dtype: float64\n"
     ]
    }
   ],
   "source": [
    "# Générer un DataFrame avec l'index des dates\n",
    "dates = pd.date_range(start=start, end=end, freq=freq)\n",
    "by_date = pd.DataFrame(index=dates)\n",
    "\n",
    "# Calculer la puissance cumulée pour chaque région\n",
    "regions = wind_plants['region'].unique()\n",
    "for region in regions:\n",
    "    # Filtrer les installations pour la région donnée\n",
    "    df_region = wind_plants[wind_plants['region'] == region]\n",
    "\n",
    "    # Regrouper par date de début d'opération et calculer la somme de la puissance\n",
    "    df_grouped = df_region.groupby('BeginningOfOperation')['TotalPower'].sum()\n",
    "    df_grouped.index = pd.to_datetime(df_grouped.index)\n",
    "\n",
    "    # Puissance installée au début de l'année\n",
    "    base_value = df_grouped.loc[:start].sum()\n",
    "    # Réindexer pour inclure toutes les dates entre d1 et d2\n",
    "    df_grouped = df_grouped.reindex(dates, fill_value=0)\n",
    "    df_grouped.loc[start] = base_value\n",
    "    print('Power in ', region,' is ', df_grouped.cumsum())\n",
    "\n",
    "    # Ajouter la colonne de puissance cumulée de la région au DataFrame de sortie\n",
    "    by_date[region] = df_grouped.cumsum()\n",
    "by_date = by_date / 1000  # Convertir en MWc\n",
    "solar_factor_resampled = wind_factor.resample(freq).mean().loc[start:end]\n",
    "n_hours_freq = 24 if freq == 'D' else 1\n",
    "produced_year = solar_factor_resampled.multiply(by_date).sum(axis=1) * n_hours_freq\n",
    "produced_year = produced_year / 1000  # Convertir en GWh"
   ]
  },
  {
   "cell_type": "code",
   "execution_count": 83,
   "metadata": {
    "ExecuteTime": {
     "end_time": "2023-05-16T14:27:39.942961600Z",
     "start_time": "2023-05-16T14:27:39.851204200Z"
    }
   },
   "outputs": [
    {
     "data": {
      "text/plain": [
       "Date\n",
       "2021-01-31    4.887264\n",
       "2021-02-28    2.789748\n",
       "2021-03-31    3.592883\n",
       "2021-04-30    2.840298\n",
       "2021-05-31    4.182061\n",
       "2021-06-30    0.736214\n",
       "2021-07-31    1.742637\n",
       "2021-08-31    1.370302\n",
       "2021-09-30    0.689666\n",
       "2021-10-31    2.540191\n",
       "2021-11-30    2.164911\n",
       "2021-12-31    4.492138\n",
       "Freq: M, dtype: float64"
      ]
     },
     "execution_count": 83,
     "metadata": {},
     "output_type": "execute_result"
    }
   ],
   "source": [
    "produced_year.resample('M').sum()"
   ]
  },
  {
   "cell_type": "code",
   "execution_count": 56,
   "metadata": {
    "ExecuteTime": {
     "end_time": "2023-05-16T13:14:47.626439300Z",
     "start_time": "2023-05-16T13:14:47.582270900Z"
    }
   },
   "outputs": [
    {
     "data": {
      "text/plain": [
       "30.63396419888679"
      ]
     },
     "execution_count": 56,
     "metadata": {},
     "output_type": "execute_result"
    }
   ],
   "source": [
    "produced_year.sum()"
   ]
  },
  {
   "cell_type": "markdown",
   "metadata": {},
   "source": [
    "Valeur IEA et OFEN : 145.6 GWh"
   ]
  },
  {
   "cell_type": "markdown",
   "metadata": {},
   "source": [
    "--- AVG yield ---"
   ]
  },
  {
   "cell_type": "code",
   "execution_count": 91,
   "metadata": {},
   "outputs": [
    {
     "data": {
      "text/plain": [
       "0.04458562853561637"
      ]
     },
     "execution_count": 91,
     "metadata": {},
     "output_type": "execute_result"
    }
   ],
   "source": [
    "solar_factor_resampled.mean().mean()"
   ]
  },
  {
   "cell_type": "code",
   "execution_count": 95,
   "metadata": {
    "ExecuteTime": {
     "end_time": "2023-05-16T14:32:17.401077100Z",
     "start_time": "2023-05-16T14:32:17.363064400Z"
    }
   },
   "outputs": [
    {
     "data": {
      "text/plain": [
       "0.19117787630791405"
      ]
     },
     "execution_count": 95,
     "metadata": {},
     "output_type": "execute_result"
    }
   ],
   "source": [
    "# OFEN\n",
    "145.6 / 8760 / 86.94 * 1000"
   ]
  },
  {
   "cell_type": "code",
   "execution_count": 103,
   "metadata": {
    "ExecuteTime": {
     "end_time": "2023-05-16T14:34:21.779837500Z",
     "start_time": "2023-05-16T14:34:21.726936400Z"
    }
   },
   "outputs": [
    {
     "data": {
      "text/plain": [
       "131.3547977406546"
      ]
     },
     "execution_count": 103,
     "metadata": {},
     "output_type": "execute_result"
    }
   ],
   "source": [
    "30.63396419888679 * 0.19117787630791405 / 0.04458562853561637"
   ]
  },
  {
   "cell_type": "code",
   "execution_count": null,
   "metadata": {},
   "outputs": [],
   "source": []
  },
  {
   "cell_type": "code",
   "execution_count": null,
   "metadata": {},
   "outputs": [],
   "source": []
  },
  {
   "cell_type": "code",
   "execution_count": 58,
   "metadata": {
    "ExecuteTime": {
     "end_time": "2023-05-16T14:03:04.425927500Z",
     "start_time": "2023-05-16T14:03:03.130277500Z"
    }
   },
   "outputs": [],
   "source": [
    "iea_data = {\n",
    "    '2021-01-31': 16.2,\n",
    "    '2021-02-28': 16.2,\n",
    "    '2021-03-31': 12.1,\n",
    "    '2021-04-30': 11.1,\n",
    "    '2021-05-31': 16.2,\n",
    "    '2021-06-30': 7.1,\n",
    "    '2021-07-31': 9.1,\n",
    "    '2021-08-31': 9.1,\n",
    "    '2021-09-30': 7.1,\n",
    "    '2021-10-31': 14.2,\n",
    "    '2021-11-30': 9.1,\n",
    "    '2021-12-31': 18.2\n",
    "}\n",
    "iea_data = pd.DataFrame.from_dict(iea_data, orient='index', columns=['prod_iea'])"
   ]
  },
  {
   "cell_type": "code",
   "execution_count": 61,
   "metadata": {
    "ExecuteTime": {
     "end_time": "2023-05-16T14:06:44.289809200Z",
     "start_time": "2023-05-16T14:06:44.212853400Z"
    }
   },
   "outputs": [],
   "source": [
    "#######\n",
    "# Data Pronovo.ch (https://www.energy-charts.info/)\n",
    "#######\n",
    "import pandas as pd\n",
    "data = pd.read_csv(\"./data/energy-charts_Production_d'électricité_journalière__en_Suisse2021.csv\", index_col='Jour')\n",
    "data.index = pd.to_datetime(data.index, format='%d.%m.%Y')\n",
    "data.drop(labels=['NaT'], inplace=True)\n",
    "data = data.applymap(lambda x: float(x.replace(',', '.')))\n",
    "pv = data['Éolienne'].resample('M').sum()\n",
    "\n",
    "iea_data.index = pv.index"
   ]
  },
  {
   "cell_type": "code",
   "execution_count": 70,
   "metadata": {
    "ExecuteTime": {
     "end_time": "2023-05-16T14:08:33.592519100Z",
     "start_time": "2023-05-16T14:08:33.559205100Z"
    }
   },
   "outputs": [],
   "source": [
    "own_monthly = produced_year.resample('M').sum()\n",
    "own_monthly.index = pv.index"
   ]
  },
  {
   "cell_type": "code",
   "execution_count": 72,
   "metadata": {
    "ExecuteTime": {
     "end_time": "2023-05-16T14:11:20.729657900Z",
     "start_time": "2023-05-16T14:11:19.627448700Z"
    }
   },
   "outputs": [
    {
     "data": {
      "image/png": "[encoded data removed]",
      "text/plain": [
       "<Figure size 640x480 with 1 Axes>"
      ]
     },
     "metadata": {},
     "output_type": "display_data"
    }
   ],
   "source": [
    "ax = plt.gca()\n",
    "own_monthly.plot(ax=ax)\n",
    "iea_data.plot(ax=ax)\n",
    "pv.plot(ax=ax)\n",
    "plt.legend(['our model', 'IEA', 'Pronovo']);"
   ]
  },
  {
   "cell_type": "code",
   "execution_count": null,
   "metadata": {},
   "outputs": [],
   "source": []
  },
  {
   "cell_type": "markdown",
   "metadata": {},
   "source": [
    "4. Data Quality\n",
    "The Wind Power CFR data reconstruction quality has been assessed for each individual country over the historical period, using ENTSO-E and some other Transmission System Operators data. Due to the assumptions made, it is not expected that the Wind Power CFR closely resembles the observed one, but its temporal evolution is realistic."
   ]
  },
  {
   "cell_type": "code",
   "execution_count": null,
   "metadata": {},
   "outputs": [],
   "source": []
  }
 ],
 "metadata": {
  "kernelspec": {
   "display_name": "Python 3 (ipykernel)",
   "language": "python",
   "name": "python3"
  },
  "language_info": {
   "codemirror_mode": {
    "name": "ipython",
    "version": 3
   },
   "file_extension": ".py",
   "mimetype": "text/x-python",
   "name": "python",
   "nbconvert_exporter": "python",
   "pygments_lexer": "ipython3",
   "version": "3.11.3"
  }
 },
 "nbformat": 4,
 "nbformat_minor": 1
}
